{
 "cells": [
  {
   "cell_type": "markdown",
   "id": "5c1d67ec-a823-4fa8-b738-f9d1dbd5851b",
   "metadata": {},
   "source": [
    "### Que 1 Find middle 3 of string"
   ]
  },
  {
   "cell_type": "code",
   "execution_count": 1,
   "id": "64673e70-087b-4053-ae52-a645ee6281f5",
   "metadata": {},
   "outputs": [
    {
     "name": "stdout",
     "output_type": "stream",
     "text": [
      "zip\n"
     ]
    }
   ],
   "source": [
    "str1 = \"RakeshzipPetabb\"\n",
    "m = len(str1)//2\n",
    "print(str1[m-1:m+2])"
   ]
  },
  {
   "cell_type": "code",
   "execution_count": 2,
   "id": "d81ca623-5792-4cf1-8b9f-c057008927dc",
   "metadata": {},
   "outputs": [
    {
     "name": "stdout",
     "output_type": "stream",
     "text": [
      "bon\n"
     ]
    }
   ],
   "source": [
    "str2 = \"JazzbonAyxx\"\n",
    "mid = len(str2)//2\n",
    "print(str2[mid-1:mid+2])"
   ]
  },
  {
   "cell_type": "markdown",
   "id": "484c4d15-838b-4b3a-83da-49dada53f05d",
   "metadata": {},
   "source": [
    "### Que 2 apply 2nd string between first string"
   ]
  },
  {
   "cell_type": "code",
   "execution_count": 3,
   "id": "5e509b39-b24d-4861-b0e8-3fe9c7831ab0",
   "metadata": {},
   "outputs": [
    {
     "data": {
      "text/plain": [
       "'AulKellylt'"
      ]
     },
     "execution_count": 3,
     "metadata": {},
     "output_type": "execute_result"
    }
   ],
   "source": [
    "s1 = \"Ault\"\n",
    "s2 = \"Kelly\"\n",
    "s1[0:3]+s2+s1[-2:]"
   ]
  },
  {
   "cell_type": "markdown",
   "id": "35cf2b32-075e-4dd8-befd-2a2c7f57b43e",
   "metadata": {},
   "source": [
    "### Que 3"
   ]
  },
  {
   "cell_type": "markdown",
   "id": "0a9d5b4f-76c3-41ab-a75f-465279ea0d1b",
   "metadata": {},
   "source": [
    "#### 3. two strings, s1, and s2 return a new string made of the first, middle, and last characters each input stringg"
   ]
  },
  {
   "cell_type": "code",
   "execution_count": 4,
   "id": "657c3f62-151a-4d52-9bbb-32af1431cc45",
   "metadata": {},
   "outputs": [
    {
     "name": "stdout",
     "output_type": "stream",
     "text": [
      "AJrpan\n"
     ]
    }
   ],
   "source": [
    "s1 = \"America\"\n",
    "s2 = \"Japan\"\n",
    "mids1 = len(s1)//2\n",
    "mids2 = len(s2)//2\n",
    "print(s1[0]+s2[0]+s1[mids1]+s2[mids2]+s1[-1]+s2[-1])"
   ]
  },
  {
   "cell_type": "markdown",
   "id": "e10f1fe3-235b-4e43-96ee-7dd53490b25d",
   "metadata": {},
   "source": [
    "### Que 4"
   ]
  },
  {
   "cell_type": "markdown",
   "id": "d42109bb-e5e6-4966-85f3-aca783973c3f",
   "metadata": {},
   "source": [
    "##### 4. Given an input string with the combination of the lower and upper case arrange characters in such a\r",
    "##### \n",
    "way that all lowercase letters should come first."
   ]
  },
  {
   "cell_type": "code",
   "execution_count": 5,
   "id": "c89187bb-b516-4acb-8456-b7d6bf4506dd",
   "metadata": {},
   "outputs": [
    {
     "name": "stdout",
     "output_type": "stream",
     "text": [
      "shgasjgHYK\n"
     ]
    }
   ],
   "source": [
    "string = \"shgHYKasjg\"\n",
    "s1 =\"\"\n",
    "s2 = \"\"\n",
    "for i in string:\n",
    "    if(i.isupper()):\n",
    "        s1 = s1+i\n",
    "    else:\n",
    "        s2 = s2+i\n",
    "print(s2+s1)"
   ]
  },
  {
   "cell_type": "markdown",
   "id": "8b3dbc44-68fa-485c-9dfa-58772dfefd49",
   "metadata": {},
   "source": [
    "##### 5. create a third-string made of the first char of s1 then the last char of s2, Next, the second char of s1 \n",
    "and second last char of s2, and so on. Any leftover chars go at the end of the result."
   ]
  },
  {
   "cell_type": "code",
   "execution_count": 6,
   "id": "d0721855-9f3c-4f0c-9e15-496ba43c4f47",
   "metadata": {},
   "outputs": [
    {
     "name": "stdout",
     "output_type": "stream",
     "text": [
      "Xyz123\n"
     ]
    }
   ],
   "source": [
    "exts1 = \"\"\n",
    "exts2 = \"\"\n",
    "s1 = \"\"\n",
    "s2 = \"Xyz123\"\n",
    "if(len(s1) > len(s2)):\n",
    "    str1 = s1[0:len(s2)]\n",
    "    exts1 = s1[len(str1):]\n",
    "if(len(s1) < len(s2)):\n",
    "    str2 = s2[len(s1):len(s2)]\n",
    "    exts2 = s2[0:len(str2)]\n",
    "\n",
    "j = len(str2)\n",
    "if((len(s1) != 0 and len(s2) != 0)):\n",
    "    for i in str1:\n",
    "        str = str + i\n",
    "        str = str +str2[j]\n",
    "        j=j-1\n",
    "print(str+exts2+exts1)"
   ]
  },
  {
   "cell_type": "markdown",
   "id": "ca82725d-ef5c-4500-95dd-6550232dab06",
   "metadata": {},
   "source": [
    "### Que 6"
   ]
  },
  {
   "cell_type": "markdown",
   "id": "735bbfc0-e252-4bc2-86f6-a2db8753682a",
   "metadata": {},
   "source": [
    "##### 6. Find all occurrences of “USA” from right to left in a given string ignoring the case. also display the \n",
    "starting position"
   ]
  },
  {
   "cell_type": "code",
   "execution_count": 7,
   "id": "04df21cd-b824-40aa-91f4-f57ef5921193",
   "metadata": {},
   "outputs": [
    {
     "name": "stdout",
     "output_type": "stream",
     "text": [
      "['welcome', 'to', 'usa.', 'usa', 'awesome,', 'usa', \"isn't\", 'it?']\n",
      "usa apperead for  1\n"
     ]
    }
   ],
   "source": [
    "str1 = \"Welcome to USA. usa awesome, uSa isn't it?\"\n",
    "str1=str1.lower()\n",
    "str2 = str1.split()\n",
    "print(str2)\n",
    "w=\"usa.\"\n",
    "\n",
    "count=0\n",
    "for i in str2:\n",
    "    if(i == w) :\n",
    "        count+=1\n",
    "print(\"usa apperead for \" ,count)"
   ]
  },
  {
   "cell_type": "markdown",
   "id": "7dd183b7-bdf7-464b-b380-f7ba611eda7c",
   "metadata": {},
   "source": [
    "### Que 7"
   ]
  },
  {
   "cell_type": "code",
   "execution_count": 8,
   "id": "2676506b-adeb-464d-90e9-84a0b9261f8d",
   "metadata": {},
   "outputs": [],
   "source": []
  },
  {
   "cell_type": "code",
   "execution_count": 9,
   "id": "7dac00a3-d781-4383-9b79-8a195810b416",
   "metadata": {},
   "outputs": [
    {
     "name": "stdout",
     "output_type": "stream",
     "text": [
      "2\n"
     ]
    }
   ],
   "source": [
    "str1 = '0111'\n",
    "subs = '11'\n",
    "b = \"\"\n",
    "count = 0\n",
    "le = len(subs)\n",
    "for i in range(len(str1)-1):\n",
    "    b = str1[i:le] #\n",
    "    if(b == subs):\n",
    "        count+=1\n",
    "    le+=1\n",
    "print(count)"
   ]
  },
  {
   "cell_type": "markdown",
   "id": "dfaf7bf8-bf80-4385-a4f3-124d096181b6",
   "metadata": {},
   "source": [
    "### 8. Given a string in format Emp_name:Emp_id"
   ]
  },
  {
   "cell_type": "code",
   "execution_count": 10,
   "id": "d2ae7408-0077-468f-bfa1-78c63b0a8c67",
   "metadata": {},
   "outputs": [
    {
     "data": {
      "text/plain": [
       "'If emp_is is perfect square -- > Print only vowels from emp_name\\nElse if emp_id is prime -- > print alternate characters from emp_name\\nElse if emp_id is odd -- > print sum of ascii values of characters in emp_name\\nElse print None'"
      ]
     },
     "execution_count": 10,
     "metadata": {},
     "output_type": "execute_result"
    }
   ],
   "source": [
    "\"\"\"If emp_is is perfect square -- > Print only vowels from emp_name\n",
    "Else if emp_id is prime -- > print alternate characters from emp_name\n",
    "Else if emp_id is odd -- > print sum of ascii values of characters in emp_name\n",
    "Else print None\"\"\""
   ]
  },
  {
   "cell_type": "code",
   "execution_count": 24,
   "id": "0cde7acc-bc42-4221-8aa5-c06ef8f8d32b",
   "metadata": {},
   "outputs": [
    {
     "name": "stdin",
     "output_type": "stream",
     "text": [
      "Enter a:39\n"
     ]
    },
    {
     "name": "stdout",
     "output_type": "stream",
     "text": [
      "nt prime\n",
      "97\n"
     ]
    }
   ],
   "source": [
    "import math\n",
    "det = input(\"Enter\")\n",
    "det = det.split(':')\n",
    "num = int(det[1])\n",
    "li = []\n",
    "\n",
    "check = int(math.sqrt(num))\n",
    "if(check*check == num):\n",
    "    print(\"perfect square\")\n",
    "    for i in det[0]:\n",
    "        if(i == 'a' or i == 'e' or i =='i' or i == 'o' or i == 'u'):\n",
    "            print(i, end = \"\")\n",
    "else:\n",
    "    p=0\n",
    "    n = 0\n",
    "    for j in range(2,num//2):\n",
    "        if(num % j == 0):\n",
    "            n+=1\n",
    "        else:\n",
    "            p +=1\n",
    "    if(n > 0):\n",
    "        if(num %2 != 0):\n",
    "            print(\"nt prime\")\n",
    "            tot=0\n",
    "            for i in det[0]:\n",
    "                tot=tot+(ord(i))\n",
    "            print(tot)\n",
    "        else:\n",
    "            print(\"not satis\")\n",
    "    else:\n",
    "        print(\"prime\")\n",
    "        for i in range(0, len(det[0]),2):\n",
    "            print(det[0][i],end = \"\")    "
   ]
  },
  {
   "cell_type": "markdown",
   "id": "ff7df34b-2266-46c7-b00f-00e65097bedf",
   "metadata": {},
   "source": [
    "### 9. Find all mobile number mentioned in given paragraph of text"
   ]
  },
  {
   "cell_type": "code",
   "execution_count": 16,
   "id": "9742baab-e591-4f6e-bd8f-d888a474578c",
   "metadata": {},
   "outputs": [
    {
     "name": "stdout",
     "output_type": "stream",
     "text": [
      "9089786756, 8900000000, "
     ]
    }
   ],
   "source": [
    "str1 = \"this is a good number 9089786756 and 8900000000 is a desired number\"\n",
    "find = str1.split()\n",
    "for i in find:\n",
    "    if (len(i) == 10 and i.isnumeric() == True):\n",
    "        print(i, end = \", \")\n",
    "        \n",
    "        "
   ]
  },
  {
   "cell_type": "markdown",
   "id": "35f0b07e-9126-4ecd-8410-33bb4624438a",
   "metadata": {},
   "source": [
    "### 11. Given a paragraph count number of words, sentences. Every sentence ends with either . or ? or !\n",
    "###     Print Count of  . , ? , !\n",
    "###     Count sentences and words."
   ]
  },
  {
   "cell_type": "code",
   "execution_count": 9,
   "id": "5e313ecb-0b6e-456a-9f2e-81e5f4c769b3",
   "metadata": {},
   "outputs": [
    {
     "name": "stdout",
     "output_type": "stream",
     "text": [
      "dot =  1 que =  1 ex =  1 Sentence =  3 word =  13\n"
     ]
    }
   ],
   "source": [
    "Input = \"I am at CDAC. What about you? I am surprised by current weather!\"\n",
    "word = 0\n",
    "dot,que,ex=0,0,0\n",
    "sentence = 0\n",
    "for i in Input:\n",
    "    if(i == '.'):\n",
    "        dot+=1\n",
    "        sentence += 1\n",
    "    if(i == '?'):\n",
    "        que+=1\n",
    "        sentence += 1\n",
    "    if(i=='!'):\n",
    "        ex+=1\n",
    "        sentence += 1\n",
    "    if(ord(i) == 32):\n",
    "        word += 1\n",
    "    \n",
    "print('dot = ',dot, 'que = ',que, 'ex = ', ex,'Sentence = ', sentence, 'word = ', word+1 )"
   ]
  },
  {
   "cell_type": "markdown",
   "id": "9cab96b2-d141-44b9-b65b-89a41a999bfb",
   "metadata": {},
   "source": [
    "### 12. You are given a string S and width w.\n",
    "### Your task is to wrap the string into a paragraph of width w"
   ]
  },
  {
   "cell_type": "code",
   "execution_count": 1,
   "id": "edd74491-dd1e-433e-9e25-8b6dde7938a2",
   "metadata": {},
   "outputs": [
    {
     "name": "stdout",
     "output_type": "stream",
     "text": [
      "ABCD\n",
      "EFGH\n",
      "IJKL\n",
      "IMNO\n",
      "QRST\n",
      "UVWX\n",
      "YZ\n"
     ]
    }
   ],
   "source": [
    "str1 = \"ABCDEFGHIJKLIMNOQRSTUVWXYZ\"\n",
    "# width = 4\n",
    "# j=0\n",
    "for i in range(0,len(str1),4):\n",
    "    print(str1[i:i+4])"
   ]
  },
  {
   "cell_type": "code",
   "execution_count": 2,
   "id": "f4064b10-b03d-4897-aeeb-7b7382cc640d",
   "metadata": {},
   "outputs": [
    {
     "name": "stdout",
     "output_type": "stream",
     "text": [
      "ABCD\n",
      "EFGH\n",
      "IJKL\n",
      "IMNO\n",
      "QRST\n",
      "UVWX\n",
      "YZ\n"
     ]
    }
   ],
   "source": [
    "str1 = \"ABCDEFGHIJKLIMNOQRSTUVWXYZ\"\n",
    "width = 4\n",
    "# j=0\n",
    "for i in range(0,len(str1),width):\n",
    "    print(str1[i:i+width])"
   ]
  },
  {
   "cell_type": "code",
   "execution_count": null,
   "id": "6752e54d-95a2-4425-a13e-ace0bed85e59",
   "metadata": {},
   "outputs": [],
   "source": []
  },
  {
   "cell_type": "code",
   "execution_count": 12,
   "id": "790d2fab-91ee-4c66-ac08-8f84493998b9",
   "metadata": {},
   "outputs": [
    {
     "name": "stdout",
     "output_type": "stream",
     "text": [
      "a =  3 b =  2\n"
     ]
    }
   ],
   "source": [
    "a=2\n",
    "b = 3\n",
    "temp = 0\n",
    "temp = a\n",
    "a = b\n",
    "b = temp\n",
    "print(\"a = \", a, \"b = \", b)"
   ]
  },
  {
   "cell_type": "code",
   "execution_count": 13,
   "id": "74e54d56-86bd-4417-93ee-4c064ebbb455",
   "metadata": {},
   "outputs": [
    {
     "name": "stdout",
     "output_type": "stream",
     "text": [
      "a =  3 b =  2\n"
     ]
    }
   ],
   "source": [
    "a = 2\n",
    "b = 3\n",
    "a,b = b,a\n",
    "print(\"a = \", a, \"b = \", b)"
   ]
  },
  {
   "cell_type": "code",
   "execution_count": 14,
   "id": "25f028ea-fc6b-4b8e-86bd-165af7f4afc1",
   "metadata": {},
   "outputs": [
    {
     "name": "stdout",
     "output_type": "stream",
     "text": [
      "v1 =  20 v2 =  10\n"
     ]
    }
   ],
   "source": [
    "v1 = 10\n",
    "v2 = 20\n",
    "v1 = v1 + v2\n",
    "v2 = v1-v2\n",
    "v1 = v1 - v2\n",
    "print(\"v1 = \", v1, \"v2 = \", v2)"
   ]
  },
  {
   "cell_type": "code",
   "execution_count": null,
   "id": "abec494f-e881-43d9-ae9a-1d35266d76b5",
   "metadata": {},
   "outputs": [],
   "source": []
  }
 ],
 "metadata": {
  "kernelspec": {
   "display_name": "Python 3 (ipykernel)",
   "language": "python",
   "name": "python3"
  },
  "language_info": {
   "codemirror_mode": {
    "name": "ipython",
    "version": 3
   },
   "file_extension": ".py",
   "mimetype": "text/x-python",
   "name": "python",
   "nbconvert_exporter": "python",
   "pygments_lexer": "ipython3",
   "version": "3.12.1"
  }
 },
 "nbformat": 4,
 "nbformat_minor": 5
}
