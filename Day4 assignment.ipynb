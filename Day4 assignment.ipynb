{
 "cells": [
  {
   "cell_type": "markdown",
   "id": "fc5f17ae-1ec4-46c6-b057-8f25eeb6a3ad",
   "metadata": {},
   "source": [
    "### 1. Reverse a given list in Python"
   ]
  },
  {
   "cell_type": "code",
   "execution_count": 3,
   "id": "d0758541-e3f5-4adf-ae9f-58ec2b1d1cdc",
   "metadata": {},
   "outputs": [],
   "source": [
    "alist = [100,200,300,400,500]"
   ]
  },
  {
   "cell_type": "code",
   "execution_count": 4,
   "id": "1c8b8da5-cd2e-42f7-8363-b644f262181f",
   "metadata": {},
   "outputs": [
    {
     "data": {
      "text/plain": [
       "[500, 400, 300, 200, 100]"
      ]
     },
     "execution_count": 4,
     "metadata": {},
     "output_type": "execute_result"
    }
   ],
   "source": [
    "alist[::-1]"
   ]
  },
  {
   "cell_type": "markdown",
   "id": "61b8ce8b-dd26-4be3-8d58-4392caaeab7f",
   "metadata": {},
   "source": [
    "### 2. take a list 'l1' of even nos between 150 to 250. Print its length. Then create another list 'l2' using 'l1', containing only nos divisible by 4 from 'l1'."
   ]
  },
  {
   "cell_type": "code",
   "execution_count": 6,
   "id": "e413d04f-8dbe-4e12-9ae6-1db0cd7f4d4a",
   "metadata": {},
   "outputs": [],
   "source": [
    "l1 = []\n",
    "for i in range(150,200,2):\n",
    "    l1.append(i)"
   ]
  },
  {
   "cell_type": "code",
   "execution_count": 8,
   "id": "91f1f8e1-9c78-42bb-b363-ce4b633f7dba",
   "metadata": {},
   "outputs": [
    {
     "name": "stdout",
     "output_type": "stream",
     "text": [
      "[150, 152, 154, 156, 158, 160, 162, 164, 166, 168, 170, 172, 174, 176, 178, 180, 182, 184, 186, 188, 190, 192, 194, 196, 198]\n"
     ]
    }
   ],
   "source": [
    "print(l1)"
   ]
  },
  {
   "cell_type": "code",
   "execution_count": 9,
   "id": "f7ef334b-66be-4a5c-94e9-74e6996f2c92",
   "metadata": {},
   "outputs": [],
   "source": [
    "l2 = [elem for elem in l1 if elem % 4 == 0]"
   ]
  },
  {
   "cell_type": "code",
   "execution_count": 10,
   "id": "5b6400e5-6df0-438a-acc3-9fa70b341a4e",
   "metadata": {},
   "outputs": [
    {
     "name": "stdout",
     "output_type": "stream",
     "text": [
      "[152, 156, 160, 164, 168, 172, 176, 180, 184, 188, 192, 196]\n"
     ]
    }
   ],
   "source": [
    "print(l2)"
   ]
  },
  {
   "cell_type": "markdown",
   "id": "9b962281-9ea4-41a4-88d4-e32ba2e09b45",
   "metadata": {},
   "source": [
    "### 3. Given a Python list of numbers. Turn every item of a list into its square root
            aList = [1, 4, 9, 16, 25, 36, 49] "
   ]
  },
  {
   "cell_type": "code",
   "execution_count": 37,
   "id": "6f9cf84d-708f-4231-944d-3f50f53e6ff4",
   "metadata": {},
   "outputs": [],
   "source": []
  },
  {
   "cell_type": "code",
   "execution_count": 40,
   "id": "5ab0cc0e-27fe-4203-ba6e-3d2add132a6f",
   "metadata": {},
   "outputs": [
    {
     "name": "stdout",
     "output_type": "stream",
     "text": [
      "[1, 2, 3, 4, 5, 6, 7]\n"
     ]
    }
   ],
   "source": [
    "aList = [1, 4, 9, 16, 25, 36, 49] \n",
    "alist = []\n",
    "count=0\n",
    "for i in aList:\n",
    "    aList[count] = int(i**0.5)\n",
    "    count+=1\n",
    "print(aList)"
   ]
  },
  {
   "cell_type": "markdown",
   "id": "fa10a706-42cb-4e39-9f10-610209f9be67",
   "metadata": {},
   "source": [
    "### 4. Print two lists in the following order
     ### list1 = [5, 6,7]
     ### list2 = [0, 1]"
   ]
  },
  {
   "cell_type": "code",
   "execution_count": 50,
   "id": "a9b9e436-ab91-427e-ac0c-1c627cd81065",
   "metadata": {},
   "outputs": [
    {
     "name": "stdout",
     "output_type": "stream",
     "text": [
      "50,51,60,61,70,71,"
     ]
    }
   ],
   "source": [
    "list1 = [5, 6, 7]\n",
    "list2 = [0,1]\n",
    "for i in list1:\n",
    "    for j in list2:\n",
    "        print(i,j,sep = \"\",end = \",\")\n",
    "        \n",
    "        "
   ]
  },
  {
   "cell_type": "markdown",
   "id": "df8898f9-64de-465a-ab04-930c116a852b",
   "metadata": {},
   "source": [
    "### 5. Given a two Python list. Iterate both lists simultaneously such that list1 should display item in original order and list2 in reverse order. It should work for any two lists.
     ### list1 = [10, 20, 30, 40]
     ### list2 = [100, 200, 300, 400]"
   ]
  },
  {
   "cell_type": "code",
   "execution_count": 55,
   "id": "e6bebc36-c3e4-44d9-91fa-b98c0dcd5952",
   "metadata": {},
   "outputs": [
    {
     "name": "stdout",
     "output_type": "stream",
     "text": [
      "10 400\n",
      "20 300\n",
      "30 200\n",
      "40 100\n"
     ]
    }
   ],
   "source": [
    "list1 = [10,20,30,40]\n",
    "list2 = [100, 200, 300, 400]\n",
    "idx = len(list2)-1\n",
    "for i in list1:\n",
    "    print(i,list2[idx] )\n",
    "    idx = idx-1"
   ]
  },
  {
   "cell_type": "markdown",
   "id": "f09a86e8-63f4-4d23-97c5-df191faaa3c0",
   "metadata": {},
   "source": [
    "### 6. Remove empty strings from the list of strings
     ### list1 = ["Ashish", "", "Atharva", "Amit", "", "Revati"]"
   ]
  },
  {
   "cell_type": "code",
   "execution_count": 58,
   "id": "24251a42-0f41-4f0e-8ca3-1b008f9e0169",
   "metadata": {},
   "outputs": [
    {
     "data": {
      "text/plain": [
       "['Ashish', 'Atharva', 'Amit', 'Revati']"
      ]
     },
     "execution_count": 58,
     "metadata": {},
     "output_type": "execute_result"
    }
   ],
   "source": [
    "list1 = [\"Ashish\", \"\", \"Atharva\", \"Amit\", \"\", \"Revati\"]\n",
    "for i in list1:\n",
    "    if i == \"\":\n",
    "        list1.remove(\"\")\n",
    "print(list1)\n"
   ]
  },
  {
   "cell_type": "markdown",
   "id": "f9d199c8-3c5c-43ef-8cfd-293387ab5cc0",
   "metadata": {},
   "source": [
    "### 7. Add item 7000 after 6000 in the following Python List
     ### list1 = [10, 20, [300, 400, [5000, 6000], 500], 30, 40]"
   ]
  },
  {
   "cell_type": "code",
   "execution_count": 69,
   "id": "79fbdb91-51e3-4496-b879-d3f8e9492b16",
   "metadata": {},
   "outputs": [
    {
     "data": {
      "text/plain": [
       "[10, 20, [300, 400, [5000, 6000, 7000], 500], 30, 40]"
      ]
     },
     "execution_count": 69,
     "metadata": {},
     "output_type": "execute_result"
    }
   ],
   "source": [
    "list1 = [10, 20, [300, 400, [5000, 6000], 500], 30, 40]\n",
    "list1[2][2].insert(2,7000)\n",
    "list1\n",
    "\n"
   ]
  },
  {
   "cell_type": "markdown",
   "id": "1b71c6b3-3bcb-4ecc-9af5-25115c310046",
   "metadata": {},
   "source": [
    "### 8. Given a nested list extend it by adding the sub list ["h", "i", "j"] in such a way that it will look like the following list

     ### list1 = ["a", "b", ["c", ["d", "e", ["f", "g"], "k"], "l"], "m", "n"]
     ### Sub List to be added = ["h", "i", "j"]
     ### output:
     ### ['a', 'b', ['c', ['d', 'e', ['f', 'g', 'h', 'i', 'j'], 'k'], 'l'], 'm', 'n'] "
   ]
  },
  {
   "cell_type": "code",
   "execution_count": 64,
   "id": "020060f9-6c68-41ea-ae7d-ebc6eea9250b",
   "metadata": {},
   "outputs": [],
   "source": [
    "#['a', 'b', ['c', ['d', 'e', ['f', 'g', 'h', 'i', 'j'], 'k'], 'l'], 'm', 'n'] "
   ]
  },
  {
   "cell_type": "code",
   "execution_count": 66,
   "id": "0635930c-ccaa-4e46-ae2f-f1c90fecc5f4",
   "metadata": {},
   "outputs": [
    {
     "name": "stdout",
     "output_type": "stream",
     "text": [
      "['a', 'b', ['c', ['d', 'e', ['f', 'g', 'h', 'i', 'j'], 'k'], 'l'], 'm', 'n']\n"
     ]
    }
   ],
   "source": [
    "list1 = [\"a\", \"b\", [\"c\", [\"d\", \"e\", [\"f\", \"g\"], \"k\"], \"l\"], \"m\", \"n\"]\n",
    "sublist = [\"h\", \"i\", \"j\"]\n",
    "list1[2][1][2].extend(sublist)\n",
    "print(list1)"
   ]
  },
  {
   "cell_type": "code",
   "execution_count": null,
   "id": "2897fa99-e6a2-463b-bf59-910ada281d86",
   "metadata": {},
   "outputs": [],
   "source": []
  },
  {
   "cell_type": "markdown",
   "id": "aecc3f4f-146d-4455-8bbb-f5d610ce934b",
   "metadata": {},
   "source": [
    "### 9. Given a Python list, find value 20 in the list, and if it is present, replace it with 200. Only update the first occurrence of a value
     ### list1 = [5, 10, 15, 20, 25, 50, 20]"
   ]
  },
  {
   "cell_type": "code",
   "execution_count": 73,
   "id": "e5f99ea1-8ec2-4979-bbe6-3874c287af6d",
   "metadata": {},
   "outputs": [
    {
     "name": "stdout",
     "output_type": "stream",
     "text": [
      "0 5\n",
      "1 10\n",
      "2 15\n",
      "3 20\n",
      "[5, 10, 15, 200, 25, 50, 20]\n"
     ]
    }
   ],
   "source": [
    "list1 = [5, 10, 15, 20, 25, 50, 20]\n",
    "for i,e in enumerate(list1):\n",
    "    print(i,e)\n",
    "    if(e == 20):\n",
    "        list1[i] = 200\n",
    "        break\n",
    "print(list1)"
   ]
  },
  {
   "cell_type": "markdown",
   "id": "61192f14-064d-4526-a178-17511cb81f4f",
   "metadata": {},
   "source": [
    "### 10. Given a Python list, remove all occurrence of 20 from the list
     ### list1 = [5, 20, 15, 20, 25, 50, 20]
     ### output:
     ### [5, 15, 25, 50]"
   ]
  },
  {
   "cell_type": "code",
   "execution_count": 9,
   "id": "6fd49787-1113-4179-9627-5af458c420a7",
   "metadata": {},
   "outputs": [
    {
     "name": "stdout",
     "output_type": "stream",
     "text": [
      "[5, 15, 25, 50]\n"
     ]
    }
   ],
   "source": [
    "list1 = [5, 20, 15, 20, 25, 50, 20]\n",
    "for i in list1:\n",
    "    if(i == 20):\n",
    "        list1.remove(i)\n",
    "print (list1)"
   ]
  },
  {
   "cell_type": "markdown",
   "id": "5ba12cdb-55e3-4c33-9830-699456a91071",
   "metadata": {},
   "source": [
    "### 11. Take a number as input from user. 
     ### Print maximum and minimum integer which can be generated using all the digits in the input number
     ### Ex. Input 3421   : o/p max: 4321, min 1234
     ### Input 7789    : o/p max: 9776   min 6779
   ]
  },
  {
   "cell_type": "code",
   "execution_count": 56,
   "id": "8d357900-32cb-4d64-9005-8e931e86480e",
   "metadata": {},
   "outputs": [
    {
     "name": "stdin",
     "output_type": "stream",
     "text": [
      "Enter number :  7789\n"
     ]
    },
    {
     "name": "stdout",
     "output_type": "stream",
     "text": [
      "Lowest = 7789\n",
      "Largest = 9877"
     ]
    }
   ],
   "source": [
    "list2 = []\n",
    "num = input('Enter number : ')\n",
    "list1 = list(num) \n",
    "list1.sort()\n",
    "\n",
    "#print(list1)\n",
    "\n",
    "print(\"Lowest = \", end = \"\")\n",
    "for i in list1:\n",
    "     print(int(i), sep = \"\",end =\"\")\n",
    "\n",
    "print(\"\")\n",
    "print(\"Largest = \", end = \"\")\n",
    "for i in range(len(list1),0,-1):\n",
    "    print(int(list1[i-1]),sep = \"\", end = \"\")    "
   ]
  },
  {
   "cell_type": "markdown",
   "id": "19278be4-eb8c-4367-8753-0611d235b690",
   "metadata": {},
   "source": [
    "### 12. Take integer from user and print all odd numbers which can be generated using any number of digits from given number
     ### Ex. 
     ### Input: 3421  o/p: 1,3,13,43,23,31,41,21,421,241,341,431,423,243,143,413,1243,1423,4213,4123, 2413,2143, .. etc"
   ]
  },
  {
   "cell_type": "code",
   "execution_count": 1,
   "id": "76431651-1123-4fdd-8222-98876ddcf092",
   "metadata": {},
   "outputs": [
    {
     "name": "stdin",
     "output_type": "stream",
     "text": [
      "Enter number 3421\n"
     ]
    },
    {
     "name": "stdout",
     "output_type": "stream",
     "text": [
      "odd :  [3, 1]\n",
      "even :  [4, 2]\n"
     ]
    }
   ],
   "source": [
    "num = input(\"Enter number\")\n",
    "l1 = []\n",
    "odd = []\n",
    "even = []\n",
    "for i in num:\n",
    "    i = int(i)\n",
    "    if(i%2 != 0):\n",
    "        odd.append(i)\n",
    "    else:\n",
    "        even.append(i)\n",
    "print(\"odd : \",odd)\n",
    "print(\"even : \",even)\n"
   ]
  },
  {
   "cell_type": "code",
   "execution_count": null,
   "id": "5da05b08-1fd5-4f77-8e1b-586845abf79d",
   "metadata": {},
   "outputs": [],
   "source": []
  }
 ],
 "metadata": {
  "kernelspec": {
   "display_name": "Python 3 (ipykernel)",
   "language": "python",
   "name": "python3"
  },
  "language_info": {
   "codemirror_mode": {
    "name": "ipython",
    "version": 3
   },
   "file_extension": ".py",
   "mimetype": "text/x-python",
   "name": "python",
   "nbconvert_exporter": "python",
   "pygments_lexer": "ipython3",
   "version": "3.12.1"
  }
 },
 "nbformat": 4,
 "nbformat_minor": 5
}
