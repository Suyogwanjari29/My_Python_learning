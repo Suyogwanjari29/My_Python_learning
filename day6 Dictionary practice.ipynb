{
 "cells": [
  {
   "cell_type": "markdown",
   "id": "a0687131-f063-4702-bc25-c12c8f626a00",
   "metadata": {},
   "source": [
    "# Dictionary"
   ]
  },
  {
   "cell_type": "markdown",
   "id": "e064d78b-cf67-4645-bbc2-dc0796fae434",
   "metadata": {},
   "source": [
    "### 1. Write a Python script to sort (ascending and descending) a dictionary by value.\r\n"
   ]
  },
  {
   "cell_type": "code",
   "execution_count": 2,
   "id": "4e58342e-f355-4cdf-b40a-3823a736aeea",
   "metadata": {},
   "outputs": [
    {
     "name": "stdout",
     "output_type": "stream",
     "text": [
      "[1, 2, 3, 4, 5, 6]\n"
     ]
    }
   ],
   "source": [
    "d = {3: 10, 1: 20, 2: 30, 4: 40, 6: 50, 5: 60}\n",
    "# Not Possible by vales\n",
    "print(sorted(d))"
   ]
  },
  {
   "cell_type": "markdown",
   "id": "8dd9f953-a8bd-4828-b331-0042d2e9cbc7",
   "metadata": {},
   "source": [
    "### 2. Write a Python script to add a key to a dictionary.\r\n"
   ]
  },
  {
   "cell_type": "code",
   "execution_count": 4,
   "id": "2a9a3b1d-1fb9-4c82-a151-ff730ec7b977",
   "metadata": {},
   "outputs": [
    {
     "name": "stdout",
     "output_type": "stream",
     "text": [
      "{0: 10, 1: 20, 2: 12}\n"
     ]
    }
   ],
   "source": [
    "d= {0: 10, 1: 20}\n",
    "d[2] = 12\n",
    "print(d)"
   ]
  },
  {
   "cell_type": "markdown",
   "id": "236094a4-abba-4bbf-a862-e9930604d1b8",
   "metadata": {},
   "source": [
    "### 3. Write a Python script to concatenate the following dictionaries to create a new one.\r\n"
   ]
  },
  {
   "cell_type": "code",
   "execution_count": 7,
   "id": "e9a026c5-ca25-4da8-a94d-9694228039fa",
   "metadata": {},
   "outputs": [
    {
     "name": "stdout",
     "output_type": "stream",
     "text": [
      "{1: 10, 2: 20, 3: 30, 4: 40, 5: 50, 6: 60}\n"
     ]
    }
   ],
   "source": [
    "d1 = {1:10, 2:20}\n",
    "d2={3:30, 4:40}\n",
    "d3={5:50,6:60}\n",
    "dmain = d1 | d2| d3\n",
    "print(dmain)"
   ]
  },
  {
   "cell_type": "markdown",
   "id": "3b5929ab-2de5-4a3b-8031-207706a74baf",
   "metadata": {},
   "source": [
    "### 7. Write a Python script to print a dictionary where the keys are numbers between 1 and 15 (both included) and the values are the square of the keys."
   ]
  },
  {
   "cell_type": "code",
   "execution_count": 3,
   "id": "37c42215-7563-404b-babb-9c1f7891fcf7",
   "metadata": {},
   "outputs": [
    {
     "name": "stdout",
     "output_type": "stream",
     "text": [
      "{1: 1, 2: 4, 3: 9, 4: 16, 5: 25, 6: 36, 7: 49, 8: 64, 9: 81, 10: 100, 11: 121, 12: 144, 13: 169, 14: 196, 15: 225}\n"
     ]
    }
   ],
   "source": [
    "d = {}\n",
    "for i in range(1,16):\n",
    "    d[i] = i*i\n",
    "print(d)"
   ]
  },
  {
   "cell_type": "markdown",
   "id": "90ca6a93-10a8-481e-9f56-7ed1bfbbdd25",
   "metadata": {},
   "source": [
    "### 6. Write a Python script to generate and print a dictionary that contains a number (between 1 and n) in the form (x, x*x)."
   ]
  },
  {
   "cell_type": "code",
   "execution_count": 5,
   "id": "4c6a5c60-626c-4d68-ae99-2198dee558e9",
   "metadata": {},
   "outputs": [
    {
     "name": "stdout",
     "output_type": "stream",
     "text": [
      "{1: 1, 2: 4, 3: 9, 4: 16, 5: 25}\n"
     ]
    }
   ],
   "source": [
    "n = 5\n",
    "d = {}\n",
    "for i in range(1,n+1):\n",
    "    d[i] = i*i\n",
    "print(d)"
   ]
  },
  {
   "cell_type": "markdown",
   "id": "d27fd657-e8ef-4ad5-8dd0-4d09569d16bc",
   "metadata": {},
   "source": [
    "### 8. Write a Python script to merge two Python dictionaries"
   ]
  },
  {
   "cell_type": "code",
   "execution_count": 2,
   "id": "e2066626-8b8c-4160-b6d1-2e5979d41c19",
   "metadata": {},
   "outputs": [
    {
     "name": "stdout",
     "output_type": "stream",
     "text": [
      "{1: 10, 2: 20, 3: 30, 4: 40}\n"
     ]
    }
   ],
   "source": [
    "d1 = {1:10, 2:20}\n",
    "d2={3:30, 4:40}\n",
    "new_d = d1 | d2\n",
    "print(new_d)"
   ]
  },
  {
   "cell_type": "markdown",
   "id": "1b19d8b6-2235-4b80-aa06-23fbb5e78de6",
   "metadata": {},
   "source": [
    "### 9. Write a Python program to iterate over dictionaries using for loops.\r\n"
   ]
  },
  {
   "cell_type": "code",
   "execution_count": 1,
   "id": "42672f57-81c7-4585-b183-2ab427ee740d",
   "metadata": {},
   "outputs": [
    {
     "name": "stdout",
     "output_type": "stream",
     "text": [
      "1 1\n",
      "2 4\n",
      "3 9\n",
      "4 16\n",
      "5 25\n",
      "6 36\n",
      "7 49\n",
      "8 64\n",
      "9 81\n",
      "10 100\n",
      "11 121\n",
      "12 144\n",
      "13 169\n",
      "14 196\n",
      "15 225\n"
     ]
    }
   ],
   "source": [
    "d = {1: 1, 2: 4, 3: 9, 4: 16, 5: 25, 6: 36, 7: 49, 8: 64, 9: 81, 10: 100, 11: 121, 12: 144, 13: 169, 14: 196, 15: 225}\n",
    "for i,e in d.items():\n",
    "    print(i, e)"
   ]
  },
  {
   "cell_type": "markdown",
   "id": "54d924b7-870f-49f1-ba26-b1df719a195a",
   "metadata": {},
   "source": [
    "### 10. Write a Python program to sum all the items in a dictionary.\r\n"
   ]
  },
  {
   "cell_type": "code",
   "execution_count": 39,
   "id": "0c5d4866-fa61-4abc-bbd6-1fb8d73167c3",
   "metadata": {},
   "outputs": [
    {
     "name": "stdout",
     "output_type": "stream",
     "text": [
      "Sum key = 21 Sum Value =  210\n"
     ]
    }
   ],
   "source": [
    "d1 = {1:10, 2:20,3:30, 4:40, 5:50,6:60}\n",
    "t = d1.items()\n",
    "#print(t)\n",
    "sum1value = 0\n",
    "sumkey = 0\n",
    "for i in t:\n",
    "    sum1value = sum1value + i[1] \n",
    "    sumkey = sumkey+i[0]\n",
    "print('Sum key =', sumkey,\"Sum Value = \", sum1value)"
   ]
  },
  {
   "cell_type": "markdown",
   "id": "6239aa97-12e1-4316-8ba0-12e09a2a6075",
   "metadata": {},
   "source": [
    "### 15. Write a Python program to get the maximum and minimum values of a dictionary.\r\n"
   ]
  },
  {
   "cell_type": "code",
   "execution_count": 1,
   "id": "3affb654-97dd-4a2e-8907-cd5fc3ed3898",
   "metadata": {},
   "outputs": [
    {
     "name": "stdout",
     "output_type": "stream",
     "text": [
      "[10, 20, 30, 40, 50, 1]\n",
      "50\n",
      "1\n"
     ]
    }
   ],
   "source": [
    "d1 = {1:10, 2:20,3:30, 4:40, 5:50,6:1}\n",
    "l1 = list(d1.values())\n",
    "print(l1)\n",
    "print(max(d1.values()))\n",
    "print(min(d1.values()))\n",
    "\n",
    "    \n",
    "    "
   ]
  },
  {
   "cell_type": "code",
   "execution_count": 13,
   "id": "ae0c327a-b7ba-43cd-8434-5f63491ecaf9",
   "metadata": {},
   "outputs": [
    {
     "name": "stdout",
     "output_type": "stream",
     "text": [
      "dict_values([10, 20, 30, 40, 50, 60])\n",
      "[100, 400, 900, 1600, 2500, 3600]\n"
     ]
    }
   ],
   "source": [
    "d1 = {1:10, 2:20,3:30, 4:40, 5:50,6:60}\n",
    "print(d1.values())\n",
    "l1 = [i*i for i in d1.values()]\n",
    "print(l1)\n",
    "#d[1]"
   ]
  },
  {
   "cell_type": "markdown",
   "id": "e1bcf3f1-f57e-494a-ab01-bf21a89fcd07",
   "metadata": {},
   "source": [
    "### 16. Write a Python program to get a dictionary from an object's fields."
   ]
  },
  {
   "cell_type": "code",
   "execution_count": null,
   "id": "d46843c5-1206-4cc6-ad96-367c7197f7c3",
   "metadata": {},
   "outputs": [],
   "source": []
  },
  {
   "cell_type": "code",
   "execution_count": null,
   "id": "e8e90341-df4f-416a-afce-5aebec196ea9",
   "metadata": {},
   "outputs": [],
   "source": []
  },
  {
   "cell_type": "markdown",
   "id": "a950af08-632a-4fa4-850d-fc8d8b6eb172",
   "metadata": {},
   "source": [
    "### 17. Write a Python program to remove duplicates from the dictionary."
   ]
  },
  {
   "cell_type": "code",
   "execution_count": 39,
   "id": "7a7687dd-3a86-4043-aa4c-e5033dc8926f",
   "metadata": {},
   "outputs": [
    {
     "name": "stdout",
     "output_type": "stream",
     "text": [
      "[10, 20, 20, 66, 30, 40, 40, 54, 50, 43, 60, 10]\n",
      "[66, 40, 10, 43, 50, 20, 54, 60, 30]\n",
      "{1: 66, 2: 40, 3: 10, 4: 43, 5: 50, 6: 20}\n"
     ]
    }
   ],
   "source": [
    "#Worng answer\n",
    "d1 = {1:[10,20], 2:[20,66],3:[30,40], 4:[40,54], 5:[50,43],6:[60,10]}\n",
    "l1 =[]\n",
    "for i in d1.values():\n",
    "    l1 = l1 + i\n",
    "print(l1)\n",
    "s = set(l1)\n",
    "l1 = list(s)\n",
    "print(l1)\n",
    "count = 0\n",
    "for i in d1:\n",
    "    d1[i] = l1[count]\n",
    "    count+=1\n",
    "print(d1)"
   ]
  },
  {
   "cell_type": "markdown",
   "id": "4bae1fff-8f67-485f-9170-62bc07cc5475",
   "metadata": {},
   "source": [
    "### 18. Write a Python program to check if a dictionary is empty or not.\r\n"
   ]
  },
  {
   "cell_type": "code",
   "execution_count": 42,
   "id": "255a3dfd-d18c-4795-a309-7127de0c7b8e",
   "metadata": {},
   "outputs": [
    {
     "name": "stdout",
     "output_type": "stream",
     "text": [
      "not empty\n"
     ]
    }
   ],
   "source": [
    "d1 = {1:[10,20], 2:[20,66],3:[30,40], 4:[40,54], 5:[50,43],6:[60,10]}\n",
    "if(len(d1) == 0):\n",
    "    print('empty')\n",
    "else:\n",
    "    print('not empty')"
   ]
  },
  {
   "cell_type": "markdown",
   "id": "b4616942-e49f-4e2b-8d36-cb7f1bc42397",
   "metadata": {},
   "source": [
    "### 19. Write a Python program to combine two dictionary by adding values for common keys.\r\n"
   ]
  },
  {
   "cell_type": "code",
   "execution_count": 8,
   "id": "277174f0-2572-4cb9-9d4a-a90c0ec1bc64",
   "metadata": {},
   "outputs": [
    {
     "name": "stdout",
     "output_type": "stream",
     "text": [
      "{'a': 400, 'b': 400, 'c': 300, 'd': 400}\n"
     ]
    }
   ],
   "source": [
    "d1 = {'a': 100, 'b': 200, 'c':300}\n",
    "d2 = {'a': 300, 'b': 200, 'd':400}\n",
    "d = {}\n",
    "for i,e in d1.items():\n",
    "    d[i] = e\n",
    "for i,e in d2.items():\n",
    "    if i in d:\n",
    "        d[i] += e\n",
    "    else:\n",
    "        d[i] = e\n",
    "print(d)\n",
    "    \n",
    "    "
   ]
  },
  {
   "cell_type": "markdown",
   "id": "88062c04-a118-40e6-a980-68ae42618c8b",
   "metadata": {},
   "source": [
    "### 20. Write a Python program to print all distinct values in a dictionary."
   ]
  },
  {
   "cell_type": "raw",
   "id": "27f31684-35a4-4d9b-852b-55dcc45021e3",
   "metadata": {},
   "source": [
    "{'S005', 'S002', 'S007', 'S001', 'S009'}"
   ]
  },
  {
   "cell_type": "code",
   "execution_count": 37,
   "id": "547a4ede-992d-4101-bc9e-1db3c7c86950",
   "metadata": {},
   "outputs": [
    {
     "name": "stdout",
     "output_type": "stream",
     "text": [
      "[[('V', 'S001')], [('V', 'S002')], [('VI', 'S001')], [('VI', 'S005')], [('VII', 'S005')], [('V', 'S009')], [('VIII', 'S007')]]\n",
      "{'S009', 'S005', 'S002', 'S001', 'S007'}\n"
     ]
    }
   ],
   "source": [
    "l =[{\"V\":\"S001\"}, {\"V\": \"S002\"}, {\"VI\": \"S001\"}, {\"VI\": \"S005\"}, {\"VII\":\"S005\"}, {\"V\":\"S009\"},{\"VIII\":\"S007\"}]\n",
    "l1 = []\n",
    "for i in l:\n",
    "    l1.append(list(i.items()))\n",
    "print(l1)\n",
    "s = set()\n",
    "for i in l1:\n",
    "    s.add(i[0][1])\n",
    "print(s)"
   ]
  },
  {
   "cell_type": "code",
   "execution_count": 38,
   "id": "ec59ae80-d344-4150-97ad-c8c1018fcf39",
   "metadata": {},
   "outputs": [
    {
     "name": "stdout",
     "output_type": "stream",
     "text": [
      "[[('V', 'S001')], [('V', 'S002')], [('VI', 'S001')], [('VI', 'S005')], [('VII', 'S005')], [('V', 'S009')], [('VIII', 'S007')]]\n"
     ]
    }
   ],
   "source": [
    "l =[{\"V\":\"S001\"}, {\"V\": \"S002\"}, {\"VI\": \"S001\"}, {\"VI\": \"S005\"}, {\"VII\":\"S005\"}, {\"V\":\"S009\"},{\"VIII\":\"S007\"}]\n",
    "l1 = [list(i.items()) for i in l]\n",
    "print(l1)"
   ]
  },
  {
   "cell_type": "markdown",
   "id": "4bffae10-399f-4649-9948-c4ada0c716df",
   "metadata": {},
   "source": [
    "### 21. Write a Python program to create and display all combinations of letters, selecting each letter from a different key in a dictionary."
   ]
  },
  {
   "cell_type": "raw",
   "id": "daf77396-2469-4ff2-b03c-d70e1420d279",
   "metadata": {},
   "source": [
    "Sample data : {'1':['a','b'], '2':['c','d']}\n",
    "ac\n",
    "ad\n",
    "bc\n",
    "bd"
   ]
  },
  {
   "cell_type": "code",
   "execution_count": 4,
   "id": "52045dba-cd00-4044-9535-23b7ffeb81d8",
   "metadata": {},
   "outputs": [
    {
     "name": "stdout",
     "output_type": "stream",
     "text": [
      "[['a', 'b'], ['c', 'd']]\n",
      "ac\n",
      "ad\n",
      "bc\n",
      "bd\n"
     ]
    }
   ],
   "source": [
    "dictionary = {'1':['a','b'], '2':['c','d']}\n",
    "l1 = [i for i in dictionary.values()]\n",
    "print(l1)\n",
    "for i in l1[0]:\n",
    "    for j in l1[1]:\n",
    "        print(i,j, sep = \"\")"
   ]
  },
  {
   "cell_type": "code",
   "execution_count": 3,
   "id": "10b70941-fe8d-4a0d-a5b4-2692284de225",
   "metadata": {},
   "outputs": [
    {
     "name": "stdout",
     "output_type": "stream",
     "text": [
      "['ac', 'ad', 'bc', 'bd']\n"
     ]
    }
   ],
   "source": [
    "dictionary = {'1':['a','b'], '2':['c','d']}\n",
    "l2 = []\n",
    "l1 = [i for i in dictionary.values()]\n",
    "for i in l1[0]:\n",
    "    for j in l1[1]:\n",
    "        \n",
    "        l2.append(str(i)+str(j))\n",
    "print(l2)"
   ]
  },
  {
   "cell_type": "markdown",
   "id": "1c4b3091-2a90-49ab-96e8-cc2222c571a9",
   "metadata": {},
   "source": [
    "### 22. Write a Python program to find the highest 3 values of corresponding keys in a dictionary.\r\n"
   ]
  },
  {
   "cell_type": "code",
   "execution_count": 71,
   "id": "3edac39f-4a4e-4a5f-a500-b40945ee03f2",
   "metadata": {},
   "outputs": [
    {
     "name": "stdout",
     "output_type": "stream",
     "text": [
      "{3: 30, 4: 40, 5: 50}\n"
     ]
    }
   ],
   "source": [
    "d1 = {1:10, 2:20,3:30, 4:40, 5:50,6:1}\n",
    "l1 = sorted([i for i in d1.values()])\n",
    "l1 = l1[-3::]\n",
    "d = dict()\n",
    "for i,e in d1.items():\n",
    "    if e in l1:\n",
    "        d[i] = e\n",
    "print(d)\n",
    "    "
   ]
  },
  {
   "cell_type": "markdown",
   "id": "ac20f385-0c30-4ea8-acf0-e5133632cbb0",
   "metadata": {},
   "source": [
    "### 23. Write a Python program to combine values in a list of dictionaries.\r\n"
   ]
  },
  {
   "cell_type": "raw",
   "id": "37d51ec1-9f14-401a-bef1-f3850bd91f27",
   "metadata": {},
   "source": [
    "Sample data: [{'item': 'item1', 'amount': 400}, {'item': 'item2', 'amount': 300}, {'item': 'item1', 'amount': 750}]\n",
    "Expected Output: Counter({'item1': 1150, 'item2': 300})"
   ]
  },
  {
   "cell_type": "code",
   "execution_count": 78,
   "id": "5a3e037e-ddf1-45b4-bca3-110e83b53044",
   "metadata": {},
   "outputs": [
    {
     "name": "stdout",
     "output_type": "stream",
     "text": [
      "{'item1': 1150, 'item2': 300}\n"
     ]
    }
   ],
   "source": [
    "l1 = [{'item': 'item1', 'amount': 400}, {'item': 'item2', 'amount': 300}, {'item': 'item1', 'amount': 750}]\n",
    "d = dict()\n",
    "for i in l1:\n",
    "    if i['item'] in d:\n",
    "        d[i['item']] +=  i['amount']\n",
    "    else:\n",
    "        d[i['item']] = i['amount']\n",
    "print(d)"
   ]
  },
  {
   "cell_type": "markdown",
   "id": "dd4af1a1-0914-4160-9359-525951ee36ba",
   "metadata": {},
   "source": [
    "### 24. Write a Python program to create a dictionary from a string.\n",
    "### Note: Track the count of the letters from the string."
   ]
  },
  {
   "cell_type": "raw",
   "id": "28c42bd8-eb67-41dc-8678-3d3909982ca9",
   "metadata": {},
   "source": [
    "Sample string : 'w3resource'\n",
    "Expected output: {'w': 1, '3': 1, 'r': 2, 'e': 2, 's': 1, 'o': 1, 'u': 1, 'c': 1}"
   ]
  },
  {
   "cell_type": "code",
   "execution_count": 83,
   "id": "847f4a65-51f4-439f-b7ed-e7f427289276",
   "metadata": {},
   "outputs": [
    {
     "name": "stdout",
     "output_type": "stream",
     "text": [
      "{'3': 1, 'r': 2, 'w': 1, 'u': 1, 'c': 1, 'e': 2, 'o': 1, 's': 1}\n"
     ]
    }
   ],
   "source": [
    "string = 'w3resource'\n",
    "d = dict()\n",
    "str1 = set(string)\n",
    "for i in str1:\n",
    "    d[i] = string.count(i)\n",
    "print(d)"
   ]
  },
  {
   "cell_type": "code",
   "execution_count": 84,
   "id": "d25af529-84b4-4e9a-9048-61e4a5d4f57f",
   "metadata": {},
   "outputs": [
    {
     "name": "stdout",
     "output_type": "stream",
     "text": [
      "{'w': 0, '3': 1, 'r': 7, 'e': 9, 's': 4, 'o': 5, 'u': 6, 'c': 8}\n"
     ]
    }
   ],
   "source": [
    "# Just for practice\n",
    "string = 'w3resource'\n",
    "d = dict()\n",
    "for i,e in enumerate(string):\n",
    "    d[e] = i\n",
    "print(d)"
   ]
  },
  {
   "cell_type": "markdown",
   "id": "34794ae7-c368-4976-8951-3507cae50ea2",
   "metadata": {},
   "source": [
    "### 25. Write a Python program to print a dictionary in table format."
   ]
  },
  {
   "cell_type": "code",
   "execution_count": 4,
   "id": "83298dbe-6b81-44c2-978d-f6cef559b5c6",
   "metadata": {},
   "outputs": [
    {
     "name": "stdout",
     "output_type": "stream",
     "text": [
      "_________\n",
      "| 3 | 1 |\n",
      "_________\n",
      "| r | 2 |\n",
      "_________\n",
      "| w | 1 |\n",
      "_________\n",
      "| u | 1 |\n",
      "_________\n",
      "| c | 1 |\n",
      "_________\n",
      "| e | 2 |\n",
      "_________\n",
      "| o | 1 |\n",
      "_________\n",
      "| s | 1 |\n",
      "_________\n"
     ]
    }
   ],
   "source": [
    "d = {'3': 1, 'r': 2, 'w': 1, 'u': 1, 'c': 1, 'e': 2, 'o': 1, 's': 1}\n",
    "for i,e in d.items():\n",
    "    print('_________')\n",
    "    print('|',i,'|',e,'|')\n",
    "print('_________')"
   ]
  },
  {
   "cell_type": "markdown",
   "id": "79510ddf-35bd-4fd1-8b49-974677744627",
   "metadata": {},
   "source": [
    "### 27. Write a Python program to convert a list into a nested dictionary of keys.\r\n"
   ]
  },
  {
   "cell_type": "raw",
   "id": "81b66995-3d46-4c23-ac17-a1de2f987236",
   "metadata": {},
   "source": [
    "Ex. i/p [1, 2, 3, 4]\n",
    "o/p  {1: {2: {3: {4: {}}}}}"
   ]
  },
  {
   "cell_type": "code",
   "execution_count": null,
   "id": "c6093375-93a9-4ef5-8bf2-39f437e52d54",
   "metadata": {},
   "outputs": [],
   "source": [
    "l1 = [1,2,3,4]"
   ]
  }
 ],
 "metadata": {
  "kernelspec": {
   "display_name": "Python 3 (ipykernel)",
   "language": "python",
   "name": "python3"
  },
  "language_info": {
   "codemirror_mode": {
    "name": "ipython",
    "version": 3
   },
   "file_extension": ".py",
   "mimetype": "text/x-python",
   "name": "python",
   "nbconvert_exporter": "python",
   "pygments_lexer": "ipython3",
   "version": "3.12.1"
  }
 },
 "nbformat": 4,
 "nbformat_minor": 5
}
