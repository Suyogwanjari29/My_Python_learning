{
 "cells": [
  {
   "cell_type": "markdown",
   "id": "40ec60ba-2974-4c92-8155-463e6518b726",
   "metadata": {},
   "source": [
    "# Set"
   ]
  },
  {
   "cell_type": "markdown",
   "id": "93434f25-c69f-4522-8be4-de57d1086148",
   "metadata": {},
   "source": [
    "#### Slicing is not supported"
   ]
  },
  {
   "cell_type": "markdown",
   "id": "93057c99-1ef3-42dc-8e21-71437116fd4c",
   "metadata": {},
   "source": [
    "### 1. Write a Python program to create a set.\r\n"
   ]
  },
  {
   "cell_type": "code",
   "execution_count": 1,
   "id": "09cedd08-68cb-431e-bd79-31cc07a3a1ce",
   "metadata": {},
   "outputs": [
    {
     "name": "stdout",
     "output_type": "stream",
     "text": [
      "{' ', 's', 'd', 'i', 'e', 't', 'h'}\n"
     ]
    }
   ],
   "source": [
    "s = set(\"this id set\")\n",
    "print(s)"
   ]
  },
  {
   "cell_type": "markdown",
   "id": "a22a99ee-c09b-491c-bd6c-455a0f5070fe",
   "metadata": {},
   "source": [
    "### 2. Write a Python program to iterate over sets.\r\n"
   ]
  },
  {
   "cell_type": "code",
   "execution_count": 2,
   "id": "2eb35955-8e17-47dd-adba-ae2694322afe",
   "metadata": {},
   "outputs": [
    {
     "name": "stdout",
     "output_type": "stream",
     "text": [
      " \n",
      "s\n",
      "d\n",
      "i\n",
      "e\n",
      "t\n",
      "h\n"
     ]
    }
   ],
   "source": [
    "for i in s:\n",
    "    print(i)"
   ]
  },
  {
   "cell_type": "markdown",
   "id": "ed80a869-17b7-42d7-a39f-1d3c65ee95ff",
   "metadata": {},
   "source": [
    "### 3. Write a Python program to add member(s) to a set.\r\n"
   ]
  },
  {
   "cell_type": "code",
   "execution_count": 3,
   "id": "6874e8e8-764a-4a47-99b3-8e6a0ec55f0c",
   "metadata": {},
   "outputs": [
    {
     "name": "stdout",
     "output_type": "stream",
     "text": [
      "{1, 2, 3, 4, 5, 'c', 'f', 'a', 'h'}\n"
     ]
    }
   ],
   "source": [
    "s = {1,2,3,4,5,'a','f','h'}\n",
    "s.add('c')\n",
    "print(s)"
   ]
  },
  {
   "cell_type": "markdown",
   "id": "031cf0ef-bb7f-415c-835c-68ed04cae145",
   "metadata": {},
   "source": [
    "### 4. Write a Python program to remove item(s) from a given set.\r\n"
   ]
  },
  {
   "cell_type": "code",
   "execution_count": 4,
   "id": "654d23f3-86c2-4c5f-951d-35f1e29e1def",
   "metadata": {},
   "outputs": [
    {
     "name": "stdout",
     "output_type": "stream",
     "text": [
      "{1, 2, 3, 5, 'f', 'h'}\n"
     ]
    }
   ],
   "source": [
    "s = {1,2,3,4,5,'a','f','h'}\n",
    "s.remove(4)\n",
    "s.remove('a')\n",
    "print(s)"
   ]
  },
  {
   "cell_type": "markdown",
   "id": "da25c81d-1b83-4127-8531-0cda9a8282b4",
   "metadata": {},
   "source": [
    "### 5. Write a Python program to remove an item from a set if it is present in the set.\r\n"
   ]
  },
  {
   "cell_type": "code",
   "execution_count": 5,
   "id": "d711020a-9f5d-4a09-8025-08ac344a4e99",
   "metadata": {},
   "outputs": [
    {
     "name": "stdout",
     "output_type": "stream",
     "text": [
      "{1, 2, 3, 4, 5, 'f', 'a', 'h'}\n"
     ]
    }
   ],
   "source": [
    "s = {1,2,3,4,5,'a','f','h'}\n",
    "s.discard(6)\n",
    "print(s)"
   ]
  },
  {
   "cell_type": "code",
   "execution_count": 21,
   "id": "4570d5b1-9312-4a8f-848e-f063ecdd06c6",
   "metadata": {},
   "outputs": [
    {
     "name": "stdout",
     "output_type": "stream",
     "text": [
      "{'f', 1, 2, 3, 'h'}\n",
      "set()\n",
      "None\n",
      "{4, 5, 'a'} {'f', 1, 2, 3, 'h'}\n"
     ]
    }
   ],
   "source": [
    "s2 = {1,2,3,4,5,'a','f','h'}\n",
    "s1 = {4,5,'a'}\n",
    "print(s1.symmetric_difference(s2))\n",
    "print(s1.difference(s2))\n",
    "print(s2.difference_update(s1))\n",
    "print(s1,s2)"
   ]
  },
  {
   "cell_type": "code",
   "execution_count": 20,
   "id": "2ba951ef-dd9c-4968-ba00-991c97125a41",
   "metadata": {},
   "outputs": [
    {
     "name": "stdout",
     "output_type": "stream",
     "text": [
      "True\n"
     ]
    }
   ],
   "source": [
    "s2 = {1,2,3,4,5,'a','f','h'}\n",
    "s1 = {4,5,'a'}\n",
    "print(s1.issubset(s2))"
   ]
  },
  {
   "cell_type": "markdown",
   "id": "ccff9daa-7b2b-4587-b034-30a50e17fe42",
   "metadata": {},
   "source": [
    "### 6. Write a Python program to create an intersection of sets.\r\n"
   ]
  },
  {
   "cell_type": "code",
   "execution_count": 6,
   "id": "e525238a-4124-4dd4-a17c-02fc05e344e6",
   "metadata": {},
   "outputs": [
    {
     "name": "stdout",
     "output_type": "stream",
     "text": [
      "{1, 2, 3, 5, 'f', 'h'}\n"
     ]
    }
   ],
   "source": [
    "s1 = {1,2,3,4,5,'a','f','h'}\n",
    "s2 = {'h', 1, 2, 3, 5, 'f','k'}\n",
    "print(s1.intersection(s2))\n"
   ]
  },
  {
   "cell_type": "markdown",
   "id": "9f36c42e-b7a7-4895-a184-df5ea23a821a",
   "metadata": {},
   "source": [
    "### 7. Write a Python program to create a union of sets.\r\n"
   ]
  },
  {
   "cell_type": "code",
   "execution_count": 5,
   "id": "973557fa-0caa-48c9-8406-78c62eb45015",
   "metadata": {},
   "outputs": [
    {
     "name": "stdout",
     "output_type": "stream",
     "text": [
      "{1, 2, 3, 4, 5, 'h', 'a', 'f', 'k'}\n",
      "{1, 2, 3, 4, 5, 'h', 'a', 'f', 'k'}\n"
     ]
    }
   ],
   "source": [
    "s1 = {1,2,3,4,5,'a','f','h'}\n",
    "s2 = {'h', 1, 2, 3, 5, 'f','k'}\n",
    "print(s1.union(s2))\n",
    "print(s1|s2)"
   ]
  },
  {
   "cell_type": "markdown",
   "id": "58f55c27-de97-4f76-9d18-d44be6475b7f",
   "metadata": {},
   "source": [
    "### 8. Write a Python program to create set difference.\r\n"
   ]
  },
  {
   "cell_type": "code",
   "execution_count": 10,
   "id": "4672ba80-ac5e-410f-9ec0-66d328145e90",
   "metadata": {},
   "outputs": [
    {
     "name": "stdout",
     "output_type": "stream",
     "text": [
      "{4, 'a'}\n",
      "{'k'}\n",
      "{4, 'a'}\n",
      "{'k'}\n"
     ]
    }
   ],
   "source": [
    "s1 = {1,2,3,4,5,'a','f','h'}\n",
    "s2 = {'h', 1, 2, 3, 5, 'f','k'}\n",
    "print(s1.difference(s2))\n",
    "print(s2.difference(s1))\n",
    "print(s1-s2)\n",
    "print(s2-s1)"
   ]
  },
  {
   "cell_type": "markdown",
   "id": "21eb1e20-d938-48f0-baa3-1692dfe1921a",
   "metadata": {},
   "source": [
    "### 9. Write a Python program to create a symmetric difference.\r\n"
   ]
  },
  {
   "cell_type": "code",
   "execution_count": 12,
   "id": "85df09f9-64e1-4d12-8253-e5e10e381c4a",
   "metadata": {},
   "outputs": [
    {
     "name": "stdout",
     "output_type": "stream",
     "text": [
      "{4, 'a', 'k'}\n"
     ]
    },
    {
     "data": {
      "text/plain": [
       "{4, 'a', 'k'}"
      ]
     },
     "execution_count": 12,
     "metadata": {},
     "output_type": "execute_result"
    }
   ],
   "source": [
    "s1 = {1,2,3,4,5,'a','f','h'}\n",
    "s2 = {'h', 1, 2, 3, 5, 'f','k'}\n",
    "print(s1.symmetric_difference(s2))\n",
    "s1^s2"
   ]
  },
  {
   "cell_type": "markdown",
   "id": "0a9712fd-ac1e-4032-b32d-9f6c5253803a",
   "metadata": {},
   "source": [
    "### 10. Write a Python program to check if a set is a subset of another set.\r\n"
   ]
  },
  {
   "cell_type": "code",
   "execution_count": 10,
   "id": "6ad4fbdb-b9a2-4a14-926f-06a6cc0b4edd",
   "metadata": {},
   "outputs": [
    {
     "data": {
      "text/plain": [
       "True"
      ]
     },
     "execution_count": 10,
     "metadata": {},
     "output_type": "execute_result"
    }
   ],
   "source": [
    "a = {1,2,5,'f'}\n",
    "s2 = {'h', 1, 2, 3, 5, 'f','k'}\n",
    "a.issubset(s2)"
   ]
  },
  {
   "cell_type": "markdown",
   "id": "2355645e-91b4-48f4-8dce-5f4ab495f1bd",
   "metadata": {},
   "source": [
    "### 11. Write a Python program to create a shallow copy of sets.\r\n"
   ]
  },
  {
   "cell_type": "code",
   "execution_count": 23,
   "id": "ab76f548-b028-4a28-b957-97c5292f34ec",
   "metadata": {},
   "outputs": [
    {
     "data": {
      "text/plain": [
       "{1, 2, 3, 5, 'f', 'h', 'k'}"
      ]
     },
     "execution_count": 23,
     "metadata": {},
     "output_type": "execute_result"
    }
   ],
   "source": [
    "s2 = {'h', 1, 2, 3, 5, 'f','k'}\n",
    "s2.copy()"
   ]
  },
  {
   "cell_type": "markdown",
   "id": "18114571-8c41-49ee-880e-469d737c42bc",
   "metadata": {},
   "source": [
    "### 12. Write a Python program to remove all elements from a given set.\r\n"
   ]
  },
  {
   "cell_type": "code",
   "execution_count": 12,
   "id": "45c9a205-a05e-4b4a-9afe-370c87e273c2",
   "metadata": {},
   "outputs": [
    {
     "name": "stdout",
     "output_type": "stream",
     "text": [
      "set()\n"
     ]
    }
   ],
   "source": [
    "s2 = {'h', 1, 2, 3, 5, 'f','k'}\n",
    "s2.clear()\n",
    "print(s2)"
   ]
  },
  {
   "cell_type": "markdown",
   "id": "830c2ecd-ef05-47e1-87c0-5854fc9ad455",
   "metadata": {},
   "source": [
    "### 13. Write a Python program that uses frozensets.\r\n"
   ]
  },
  {
   "cell_type": "code",
   "execution_count": 13,
   "id": "36d909f5-4adc-4c59-bccf-08c2b582ea6a",
   "metadata": {},
   "outputs": [
    {
     "name": "stdout",
     "output_type": "stream",
     "text": [
      "frozenset({(23, 55), 10, 34})\n"
     ]
    }
   ],
   "source": [
    "fs = frozenset(( 10, 34, (23,55)))\n",
    "print(fs) "
   ]
  },
  {
   "cell_type": "markdown",
   "id": "b4e07b2c-8b61-49bf-9c87-5277c809e11a",
   "metadata": {},
   "source": [
    "### 14. Write a Python program to find the maximum and minimum values in a set.\r\n"
   ]
  },
  {
   "cell_type": "code",
   "execution_count": 14,
   "id": "ee64eb8f-80ba-4331-a988-43ef736cd00b",
   "metadata": {},
   "outputs": [
    {
     "name": "stdout",
     "output_type": "stream",
     "text": [
      "8 1\n"
     ]
    }
   ],
   "source": [
    "s2 = { 1, 4, 7, 5,8, 2}\n",
    "print(max(s2),min(s2))"
   ]
  },
  {
   "cell_type": "markdown",
   "id": "2d1bfabf-0e34-44c1-b215-e8b258061124",
   "metadata": {},
   "source": [
    "### 15. Write a Python program to find the length of a set.\r\n"
   ]
  },
  {
   "cell_type": "code",
   "execution_count": 15,
   "id": "e84842e9-edf4-4d2f-ab11-dbe7d100bdbb",
   "metadata": {},
   "outputs": [
    {
     "name": "stdout",
     "output_type": "stream",
     "text": [
      "6\n"
     ]
    }
   ],
   "source": [
    "s2 = { 1, 4, 7, 5,8, 2}\n",
    "print(len(s2))"
   ]
  },
  {
   "cell_type": "markdown",
   "id": "619dbe3c-5048-4a9c-9572-0db167e796e8",
   "metadata": {},
   "source": [
    "### 16. Write a Python program to check if a given value is present in a set or not.\r\n"
   ]
  },
  {
   "cell_type": "code",
   "execution_count": 16,
   "id": "ceaa2fbb-b8ad-4a0a-bb45-f0baf6c76a54",
   "metadata": {},
   "outputs": [
    {
     "name": "stdout",
     "output_type": "stream",
     "text": [
      "True\n"
     ]
    }
   ],
   "source": [
    "s2 = { 1, 4, 7, 5,8, 2}\n",
    "num = 4\n",
    "print(num in s2)"
   ]
  },
  {
   "cell_type": "markdown",
   "id": "a480ab1f-9e8e-4d96-a728-4845e7db5e0c",
   "metadata": {},
   "source": [
    "### 17. Write a Python program to check if two given sets have no elements in common.\r\n"
   ]
  },
  {
   "cell_type": "code",
   "execution_count": 14,
   "id": "c4fc0140-5c47-4408-9d9b-45978ef6ecd1",
   "metadata": {},
   "outputs": [
    {
     "name": "stdout",
     "output_type": "stream",
     "text": [
      "{1, 2, 65, 4, 6, 7, 8, 78, 22, 33, 54}\n",
      "None\n"
     ]
    },
    {
     "data": {
      "text/plain": [
       "{'1', '2', '22', '33', '4', '54', '6', '65', '7', '78', '8'}"
      ]
     },
     "execution_count": 14,
     "metadata": {},
     "output_type": "execute_result"
    }
   ],
   "source": [
    "s1 = {22,33,54,65,78}\n",
    "s2 = { 1, 4, 7, 6,8, 2}\n",
    "print(s1.symmetric_difference(s2))\n",
    "print(s1.symmetric_difference_update(s2))\n",
    "\n",
    "s3 = {str(e) for e in s1}\n",
    "s3"
   ]
  },
  {
   "cell_type": "markdown",
   "id": "6f1f400c-1df9-4031-a360-148e5515337a",
   "metadata": {},
   "source": [
    "### 18. Write a Python program to check if a given set is a superset of itself and a superset of another given set."
   ]
  },
  {
   "cell_type": "code",
   "execution_count": 35,
   "id": "31e7972a-e0a9-4a3c-ae27-24bbb4bd175d",
   "metadata": {},
   "outputs": [
    {
     "data": {
      "text/plain": [
       "False"
      ]
     },
     "execution_count": 35,
     "metadata": {},
     "output_type": "execute_result"
    }
   ],
   "source": [
    "s1 = { 1, 4, 7, 65,8, 2}\n",
    "s1 = {4,65,7}\n",
    "s2.issuperset(s1)"
   ]
  },
  {
   "cell_type": "markdown",
   "id": "11f77068-2871-4097-b5ac-0375c1f7ea3d",
   "metadata": {},
   "source": [
    "### 19. Write a Python program to find elements in a given set that are not in another set.\r\n"
   ]
  },
  {
   "cell_type": "code",
   "execution_count": 19,
   "id": "e6c7edbe-1c6f-4974-a4c2-f7e2472598b4",
   "metadata": {},
   "outputs": [
    {
     "data": {
      "text/plain": [
       "{4, 'a'}"
      ]
     },
     "execution_count": 19,
     "metadata": {},
     "output_type": "execute_result"
    }
   ],
   "source": [
    "s1 = {1,2,3,4,5,'a','f','h'}\n",
    "s2 = {'h', 1, 2, 3, 5, 'f','k'}\n",
    "s1.difference(s2)\n"
   ]
  },
  {
   "cell_type": "markdown",
   "id": "64eec656-b196-4c9d-8714-60ed3260ceca",
   "metadata": {},
   "source": [
    "### 20. Write a Python program to remove the intersection of a second set with a first set.\r\n"
   ]
  },
  {
   "cell_type": "code",
   "execution_count": 20,
   "id": "7cf65e7d-1019-43ff-8914-0815e720bc19",
   "metadata": {},
   "outputs": [
    {
     "name": "stdout",
     "output_type": "stream",
     "text": [
      "{'a', 'k', 4}\n"
     ]
    }
   ],
   "source": [
    "s1 = {1,2,3,4,5,'a','f','h'}\n",
    "s2 = {'h', 1, 2, 3, 5, 'f','k'}\n",
    "print(s1.union(s2) - s1.intersection(s2)) \n"
   ]
  },
  {
   "cell_type": "markdown",
   "id": "51155a91-14c4-4452-91cc-cd6c6a9cd043",
   "metadata": {},
   "source": [
    "### 21. Write a Python program to find all the unique words and count the frequency of occurrence from a given list of strings. Use Python set data type."
   ]
  },
  {
   "cell_type": "code",
   "execution_count": 21,
   "id": "4287db8c-23d7-405d-bf18-50378864e1be",
   "metadata": {},
   "outputs": [
    {
     "name": "stdout",
     "output_type": "stream",
     "text": [
      "hello  =  1  times\n",
      "everyone  =  2  times\n",
      "this  =  3  times\n",
      "is  =  2  times\n",
      "python  =  2  times\n",
      "assignment.  =  2  times\n",
      "has  =  1  times\n",
      "to  =  1  times\n",
      "complete  =  1  times\n",
      "important  =  1  times\n",
      "{'everyone', 'this', 'complete', 'has', 'assignment.', 'hello', 'is', 'to', 'python', 'important'}\n"
     ]
    }
   ],
   "source": [
    "#list indices must be integers or slices, not str\n",
    "sentence = \"hello everyone this is python assignment. everyone has to complete this python assignment. this is important\" \n",
    "s1 = sentence.split()\n",
    "s2 = set(s1)\n",
    "idx = []\n",
    "for i in s1:\n",
    "    if i in s2:\n",
    "        idx.append(s1.index(i))\n",
    "idx1 = set(idx)\n",
    "for i in idx1:\n",
    "    count = idx.count(i)\n",
    "    print(s1[i], \" = \", count,\" times\")\n",
    "#print(idx)\n",
    "print(s2)"
   ]
  },
  {
   "cell_type": "code",
   "execution_count": null,
   "id": "4c368b02-0cc1-428b-b7d1-822df7ec062e",
   "metadata": {},
   "outputs": [],
   "source": []
  },
  {
   "cell_type": "markdown",
   "id": "10269ebd-5b80-4cdd-a7d4-4e8d0c14877b",
   "metadata": {},
   "source": [
    "### 22. Write a Python program that finds all pairs of elements in a list whose sum is equal to a given value.\r\n"
   ]
  },
  {
   "cell_type": "code",
   "execution_count": 16,
   "id": "6c463501-2dbf-42b9-a666-a5869ea93e28",
   "metadata": {},
   "outputs": [
    {
     "name": "stdout",
     "output_type": "stream",
     "text": [
      "Pairs with sum 6 : [(4, 2), (5, 1), (1, 5), (2, 4), (4, 2), (5, 1), (2, 4), (3, 3)]\n"
     ]
    }
   ],
   "source": [
    "\n",
    "# l1 = [0, 1, 2, 3, 4, 5, 1, 7, 8, 9, 2, 4, 5, 2, 3, 15]\n",
    "# num = 20\n",
    "# #for i in range(0,len(l1)):\n",
    "# l1.count(1)\n",
    "def find_pairs_with_sum(lst, target_sum):\n",
    "    # Create an empty set to store elements\n",
    "    seen = set()\n",
    "    pairs = []\n",
    "\n",
    "    for num in lst:\n",
    "        # Calculate the complement of the current element\n",
    "        complement = target_sum - num\n",
    "        \n",
    "        # If the complement is in the set, we found a pair\n",
    "        if complement in seen:\n",
    "            pairs.append((num, complement))\n",
    "        \n",
    "        # Add the current element to the set\n",
    "        seen.add(num)\n",
    "\n",
    "    return pairs\n",
    "\n",
    "# Test the function\n",
    "l1 = [0, 1, 2, 3, 4, 5, 1, 7, 8, 9, 2, 4, 5, 2, 3, 15]\n",
    "target = 6\n",
    "pairs = find_pairs_with_sum(l1, target)\n",
    "print(\"Pairs with sum\", target, \":\", pairs)\n",
    "\n",
    "    "
   ]
  },
  {
   "cell_type": "markdown",
   "id": "d380c84a-171b-421a-9fad-91c8bee86458",
   "metadata": {},
   "source": [
    "### 23. Write a Python program to find the longest common prefix of all strings. Use the Python set.\r\n"
   ]
  },
  {
   "cell_type": "code",
   "execution_count": 17,
   "id": "834348f5-032e-44a6-85ca-fb8a53344eae",
   "metadata": {},
   "outputs": [
    {
     "name": "stdout",
     "output_type": "stream",
     "text": [
      "flow\n",
      "flower\n",
      "flight\n",
      "fly\n"
     ]
    }
   ],
   "source": [
    "s1 = {'flower', 'fly', 'flow','flight'}\n",
    "st = \"\"\n",
    "for i in s1:\n",
    "    \n",
    "        "
   ]
  },
  {
   "cell_type": "markdown",
   "id": "c9b27121-a9d2-4e1a-9584-a297c4faa0d9",
   "metadata": {},
   "source": [
    "### 24. Write a Python program to find the two numbers whose product is maximum among all the pairs in a given list of numbers. Use the Python set."
   ]
  },
  {
   "cell_type": "code",
   "execution_count": 25,
   "id": "a4e7ad98-aead-467a-a852-b1b8b61743ad",
   "metadata": {},
   "outputs": [
    {
     "name": "stdout",
     "output_type": "stream",
     "text": [
      "{1, 2, 3, 4, 5, 6, 8, 9}\n",
      "72\n"
     ]
    }
   ],
   "source": [
    "s1 = [2,3,6,8,1,3,4,5,9]\n",
    "s1 = set(s1)\n",
    "print(s1)\n",
    "first = max(s1)\n",
    "s1.discard(first)\n",
    "second = max(s1)\n",
    "addition = first * second\n",
    "print(addition)"
   ]
  },
  {
   "cell_type": "markdown",
   "id": "aa3fa104-37e7-40b9-8165-a0ebd77fc951",
   "metadata": {},
   "source": [
    "### 25. Given two sets of numbers, write a Python program to find the missing numbers in the second set as compared to the first and vice versa. Use the Python set."
   ]
  },
  {
   "cell_type": "code",
   "execution_count": 26,
   "id": "a9dc40cb-a0f0-4964-aa7b-0f48d008e8d2",
   "metadata": {},
   "outputs": [
    {
     "data": {
      "text/plain": [
       "{4, 'a'}"
      ]
     },
     "execution_count": 26,
     "metadata": {},
     "output_type": "execute_result"
    }
   ],
   "source": [
    "s1 = {1,2,3,4,5,'a','f','h'}\n",
    "s2 = {'h', 1, 2, 3, 5, 'f','k'}\n",
    "s1.difference(s2)"
   ]
  },
  {
   "cell_type": "markdown",
   "id": "717712f3-4885-4d34-bf96-33c7f1b02a21",
   "metadata": {},
   "source": [
    "### 26. Write a Python program to find all the anagrams and group them together from a given list of strings. Use the Python data type."
   ]
  },
  {
   "cell_type": "code",
   "execution_count": 31,
   "id": "ebc9368a-2cad-42b7-b947-9a4c91489752",
   "metadata": {},
   "outputs": [
    {
     "name": "stdout",
     "output_type": "stream",
     "text": [
      "listen\n",
      "earth\n"
     ]
    }
   ],
   "source": [
    "def anagrams(l1):\n",
    "    l3 = l1.copy()\n",
    "    #print(l2)\n",
    "    for i in range(0,len(l1)):\n",
    "        l1[i] = set(l1[i])\n",
    "    #l2 = l1\n",
    "    for i in range(0,len(l1)-1):\n",
    "        for j in range(i+1,len(l1)):\n",
    "            if(l1[i] == l1[j]):\n",
    "                print(l3[j])\n",
    "l1 = ['silent', 'listen','heart','earth','hello']\n",
    "anagrams(l1)"
   ]
  },
  {
   "cell_type": "code",
   "execution_count": null,
   "id": "727a9650-bba8-4458-8728-698044c75fca",
   "metadata": {},
   "outputs": [],
   "source": []
  },
  {
   "cell_type": "code",
   "execution_count": null,
   "id": "7eb86199-a0e4-4969-ab6a-577d92dd3f17",
   "metadata": {},
   "outputs": [],
   "source": []
  },
  {
   "cell_type": "code",
   "execution_count": null,
   "id": "54be3747-0c04-4115-a227-4d1571baddde",
   "metadata": {},
   "outputs": [],
   "source": []
  }
 ],
 "metadata": {
  "kernelspec": {
   "display_name": "Python 3 (ipykernel)",
   "language": "python",
   "name": "python3"
  },
  "language_info": {
   "codemirror_mode": {
    "name": "ipython",
    "version": 3
   },
   "file_extension": ".py",
   "mimetype": "text/x-python",
   "name": "python",
   "nbconvert_exporter": "python",
   "pygments_lexer": "ipython3",
   "version": "3.12.1"
  }
 },
 "nbformat": 4,
 "nbformat_minor": 5
}
