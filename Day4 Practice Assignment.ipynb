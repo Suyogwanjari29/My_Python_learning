{
 "cells": [
  {
   "cell_type": "markdown",
   "id": "8ce0ec74-b484-439c-8e7e-4cc9afc84a89",
   "metadata": {},
   "source": [
    "### 1. Write a Python program to sum all the items in a list."
   ]
  },
  {
   "cell_type": "code",
   "execution_count": 2,
   "id": "4e28a4c6-1668-4f6e-93be-303b5dedd898",
   "metadata": {},
   "outputs": [
    {
     "name": "stdout",
     "output_type": "stream",
     "text": [
      "29\n",
      "29\n"
     ]
    }
   ],
   "source": [
    "l1 = [4,5,6,3,2,8,1]\n",
    "add = 0\n",
    "for i in l1:\n",
    "    add = add+i\n",
    "print(add)\n",
    "print(sum(l1))"
   ]
  },
  {
   "cell_type": "markdown",
   "id": "d834fab4-31d7-4fdd-a95a-0dea64b765f0",
   "metadata": {},
   "source": [
    "### 2. Write a Python program to multiply all the items in a list."
   ]
  },
  {
   "cell_type": "code",
   "execution_count": 5,
   "id": "7614e035-99c0-43f2-80a6-1e74d12dbc96",
   "metadata": {},
   "outputs": [
    {
     "name": "stdout",
     "output_type": "stream",
     "text": [
      "5760\n"
     ]
    }
   ],
   "source": [
    "l1 = [4,5,6,3,2,8,1]\n",
    "product = 1\n",
    "for i in l1:\n",
    "    product = product * i\n",
    "print(product)"
   ]
  },
  {
   "cell_type": "markdown",
   "id": "a491c512-e2a0-4dff-bc69-69730e2a70ce",
   "metadata": {},
   "source": [
    "### 3. Write a Python program to get the largest number from a list."
   ]
  },
  {
   "cell_type": "code",
   "execution_count": 10,
   "id": "e99a990e-f182-4a0a-af9d-82ef1067acda",
   "metadata": {},
   "outputs": [
    {
     "name": "stdout",
     "output_type": "stream",
     "text": [
      "8\n",
      "8\n"
     ]
    }
   ],
   "source": [
    "l1 = [4,5,6,3,2,8,1]\n",
    "greater = 0\n",
    "for i in range(len(l1)-1):\n",
    "    if l1[i] > greater:\n",
    "        greater = l1[i]\n",
    "print(greater)\n",
    "print(max(l1))"
   ]
  },
  {
   "cell_type": "markdown",
   "id": "23ef2626-e49b-4d87-87cd-c9143ffcba1b",
   "metadata": {},
   "source": [
    "### 4. Write a Python program to get the smallest number from a list."
   ]
  },
  {
   "cell_type": "code",
   "execution_count": null,
   "id": "f52cafe2-6a89-4863-a9f9-ba5c10ba178f",
   "metadata": {},
   "outputs": [],
   "source": [
    "l1 = [4,5,6,3,2,8,1]\n",
    "smal = 0\n",
    "for i in range()"
   ]
  }
 ],
 "metadata": {
  "kernelspec": {
   "display_name": "Python 3 (ipykernel)",
   "language": "python",
   "name": "python3"
  },
  "language_info": {
   "codemirror_mode": {
    "name": "ipython",
    "version": 3
   },
   "file_extension": ".py",
   "mimetype": "text/x-python",
   "name": "python",
   "nbconvert_exporter": "python",
   "pygments_lexer": "ipython3",
   "version": "3.12.1"
  }
 },
 "nbformat": 4,
 "nbformat_minor": 5
}
