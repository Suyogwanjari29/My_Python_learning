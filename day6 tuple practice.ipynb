{
 "cells": [
  {
   "cell_type": "code",
   "execution_count": 1,
   "id": "c8532628-5370-4b6b-bd8f-3ba1eb164f1d",
   "metadata": {},
   "outputs": [
    {
     "name": "stdout",
     "output_type": "stream",
     "text": [
      "(1, 2, 3, 4, 5)\n"
     ]
    }
   ],
   "source": [
    "l = [1,2,3,4,5]\n",
    "t = tuple(l)\n",
    "print(t)"
   ]
  },
  {
   "cell_type": "markdown",
   "id": "355e6418-2011-4373-aca1-90699f967125",
   "metadata": {},
   "source": [
    "### 2. Write a Python program to create a tuple with different data types"
   ]
  },
  {
   "cell_type": "code",
   "execution_count": 2,
   "id": "4ecc71ed-cbd1-4fa0-8555-cf6c6d1b5495",
   "metadata": {},
   "outputs": [
    {
     "name": "stdout",
     "output_type": "stream",
     "text": [
      "(1, 'a', [3, 4, 5], 2)\n"
     ]
    }
   ],
   "source": [
    "l = [1,'a',[3,4,5],2]\n",
    "t = tuple(l)\n",
    "print(t)"
   ]
  },
  {
   "cell_type": "markdown",
   "id": "50c5b3cf-4f38-4a2b-8f5a-ee2024acc33a",
   "metadata": {},
   "source": [
    "### 3. Write a Python program to create a tuple of numbers and print one item.\r\n"
   ]
  },
  {
   "cell_type": "code",
   "execution_count": 3,
   "id": "346568e9-2193-4e05-b495-b4390a382b5c",
   "metadata": {},
   "outputs": [
    {
     "name": "stdout",
     "output_type": "stream",
     "text": [
      "3\n"
     ]
    }
   ],
   "source": [
    "t = (1, 2, 3, 4, 5)\n",
    "print(t[2])"
   ]
  },
  {
   "cell_type": "markdown",
   "id": "e58d9625-4a30-4334-b1f9-9384bd61b95c",
   "metadata": {},
   "source": [
    "### 4. Write a Python program to unpack a tuple into several variables.\r\n"
   ]
  },
  {
   "cell_type": "code",
   "execution_count": 4,
   "id": "a01a4c8c-596e-483d-94a1-bc892ecdb7a6",
   "metadata": {},
   "outputs": [
    {
     "name": "stdout",
     "output_type": "stream",
     "text": [
      "1 2\n"
     ]
    }
   ],
   "source": [
    "t1 = (1,2)\n",
    "v1, v2 = t1\n",
    "print(v1,v2)"
   ]
  },
  {
   "cell_type": "markdown",
   "id": "e0277388-fa17-4325-a4fb-4d709bd891e1",
   "metadata": {},
   "source": [
    "### 5. Write a Python program to add an item to a tuple.\r\n"
   ]
  },
  {
   "cell_type": "code",
   "execution_count": 5,
   "id": "311011da-f598-4953-ab6c-82ab7ba5917b",
   "metadata": {},
   "outputs": [
    {
     "ename": "AttributeError",
     "evalue": "'tuple' object has no attribute 'add'",
     "output_type": "error",
     "traceback": [
      "\u001b[1;31m---------------------------------------------------------------------------\u001b[0m",
      "\u001b[1;31mAttributeError\u001b[0m                            Traceback (most recent call last)",
      "Cell \u001b[1;32mIn[5], line 2\u001b[0m\n\u001b[0;32m      1\u001b[0m t1 \u001b[38;5;241m=\u001b[39m (\u001b[38;5;241m5\u001b[39m, \u001b[38;5;241m7\u001b[39m, \u001b[38;5;241m8\u001b[39m)\n\u001b[1;32m----> 2\u001b[0m t1\u001b[38;5;241m.\u001b[39madd(\u001b[38;5;241m45\u001b[39m)\n",
      "\u001b[1;31mAttributeError\u001b[0m: 'tuple' object has no attribute 'add'"
     ]
    }
   ],
   "source": [
    "t1 = (5, 7, 8)\n",
    "t1.add(45) # Not possible tuple is immutable"
   ]
  },
  {
   "cell_type": "markdown",
   "id": "6dfc114e-d8cc-438f-b6e9-c5659fefd188",
   "metadata": {},
   "source": [
    "### 6. Write a Python program to convert a tuple to a string.\r\n"
   ]
  },
  {
   "cell_type": "code",
   "execution_count": 6,
   "id": "590c4af2-64f2-49e3-a5ad-62c97276c386",
   "metadata": {},
   "outputs": [
    {
     "data": {
      "text/plain": [
       "'(2, 3, 4)'"
      ]
     },
     "execution_count": 6,
     "metadata": {},
     "output_type": "execute_result"
    }
   ],
   "source": [
    "t1=(2,3,4)\n",
    "str((2,3,4))"
   ]
  },
  {
   "cell_type": "code",
   "execution_count": 7,
   "id": "b8d28e3b-1242-4cf5-9820-fd3a81a29c98",
   "metadata": {},
   "outputs": [
    {
     "data": {
      "text/plain": [
       "'IAc'"
      ]
     },
     "execution_count": 7,
     "metadata": {},
     "output_type": "execute_result"
    }
   ],
   "source": [
    "t2 = ('I','A','c')\n",
    "\"\".join(t2)"
   ]
  },
  {
   "cell_type": "markdown",
   "id": "9fdfbb8f-a00f-45f9-be3f-b046dfb56188",
   "metadata": {},
   "source": [
    "### 7. Write a Python program to get the 4th element from the last element of a tuple.\r\n"
   ]
  },
  {
   "cell_type": "code",
   "execution_count": 8,
   "id": "99cb8594-d88c-45e4-8bb6-70ed5b711f92",
   "metadata": {},
   "outputs": [
    {
     "data": {
      "text/plain": [
       "4"
      ]
     },
     "execution_count": 8,
     "metadata": {},
     "output_type": "execute_result"
    }
   ],
   "source": [
    "t1=(2,3,4,5,8,2)\n",
    "t1[-4]\n"
   ]
  },
  {
   "cell_type": "markdown",
   "id": "9502c11d-1e5d-4e97-9c50-963345726339",
   "metadata": {},
   "source": [
    "### 9. Write a Python program to find repeated items in a tuple.\r\n"
   ]
  },
  {
   "cell_type": "code",
   "execution_count": 9,
   "id": "f2d080da-4c02-4fda-b1ee-6925c541b3b7",
   "metadata": {},
   "outputs": [
    {
     "name": "stdout",
     "output_type": "stream",
     "text": [
      "repeated elem 4\n",
      "repeated elem 7\n"
     ]
    }
   ],
   "source": [
    "t1 = (4,6,3,2,4,7,8,5,7,0)\n",
    "for e1 in set(t1):\n",
    "    if t1.count(e1) > 1:\n",
    "        print(\"repeated elem\", e1)"
   ]
  },
  {
   "cell_type": "code",
   "execution_count": 43,
   "id": "d3b7395d-0200-48b7-911b-3509ce4395cc",
   "metadata": {},
   "outputs": [
    {
     "name": "stdout",
     "output_type": "stream",
     "text": [
      "repeated elem 4\n"
     ]
    }
   ],
   "source": [
    "repeated_set = set()\n",
    "for e1 in set(t1):\n",
    "    if e2 in t1:\n",
    "        if(e1 == e2) and e1 not in repeated_set:\n",
    "            repeated_set.add(e1)\n",
    "\n",
    "print(\"repeated elem\", e1)"
   ]
  },
  {
   "cell_type": "markdown",
   "id": "e05950bf-f8af-4569-94ab-54d232ba901f",
   "metadata": {},
   "source": [
    "### 10. Write a Python program to check whether an element exists within a tuple.\r\n"
   ]
  },
  {
   "cell_type": "code",
   "execution_count": 11,
   "id": "e5764a7a-c8ee-4cee-955f-aa28cc374046",
   "metadata": {},
   "outputs": [
    {
     "name": "stdin",
     "output_type": "stream",
     "text": [
      " 4\n"
     ]
    },
    {
     "name": "stdout",
     "output_type": "stream",
     "text": [
      "4 present in t1\n"
     ]
    }
   ],
   "source": [
    "t1 = (4,6,3,2,4,7,8,5,7,0)\n",
    "num = int(input())\n",
    "if num in t1:\n",
    "    print(num, \"present in t1\")\n",
    "else:\n",
    "    print(\"not present\")"
   ]
  },
  {
   "cell_type": "markdown",
   "id": "fc55ec50-2f99-46a8-8347-ccf381607426",
   "metadata": {},
   "source": [
    "### 11. Write a Python program to convert a list to a tuple.\r\n"
   ]
  },
  {
   "cell_type": "code",
   "execution_count": 12,
   "id": "b4af99bc-fd1b-4dba-ae19-f97438109a0f",
   "metadata": {},
   "outputs": [
    {
     "data": {
      "text/plain": [
       "('Blue', 'Green', 'Red', 'Yellow', 'Orange')"
      ]
     },
     "execution_count": 12,
     "metadata": {},
     "output_type": "execute_result"
    }
   ],
   "source": [
    "s2 = [\"Blue\", \"Green\", \"Red\",\"Yellow\",\"Orange\"]\n",
    "tuple(s2)"
   ]
  },
  {
   "cell_type": "markdown",
   "id": "3621e269-697b-4691-8ff0-f554d187e967",
   "metadata": {},
   "source": [
    "### 12. Write a Python program to remove an item from a tuple.\r\n"
   ]
  },
  {
   "cell_type": "code",
   "execution_count": 13,
   "id": "bdf79cb5-c99a-4861-b9d1-5242f9b83c66",
   "metadata": {},
   "outputs": [],
   "source": [
    "# ERROR  immutable"
   ]
  },
  {
   "cell_type": "markdown",
   "id": "fe380df2-aef8-4673-89f9-2e273fbf3a4d",
   "metadata": {},
   "source": [
    "### 13. Write a Python program to slice a tuple."
   ]
  },
  {
   "cell_type": "code",
   "execution_count": 14,
   "id": "0d27f14b-8576-4bd8-abe4-74da482251e9",
   "metadata": {},
   "outputs": [
    {
     "data": {
      "text/plain": [
       "('Red', 'Yellow', 'Orange')"
      ]
     },
     "execution_count": 14,
     "metadata": {},
     "output_type": "execute_result"
    }
   ],
   "source": [
    "S1 = ('Blue', 'Green', 'Red', 'Yellow', 'Orange')\n",
    "S1[2:]"
   ]
  },
  {
   "cell_type": "markdown",
   "id": "fe4cd4b5-0ca1-41c7-8445-98a10a3aa812",
   "metadata": {},
   "source": [
    "### 14. Write a Python program to find the index of an item in a tuple.\r\n"
   ]
  },
  {
   "cell_type": "code",
   "execution_count": 15,
   "id": "6ec74fe4-778c-4235-93ee-2b47b659b7ed",
   "metadata": {},
   "outputs": [
    {
     "data": {
      "text/plain": [
       "4"
      ]
     },
     "execution_count": 15,
     "metadata": {},
     "output_type": "execute_result"
    }
   ],
   "source": [
    "S1 = ('Blue', 'Green', 'Red', 'Yellow', 'Orange')\n",
    "S1.index('Orange')"
   ]
  },
  {
   "cell_type": "markdown",
   "id": "274a1c4d-de47-4245-b22b-1961dce5eac5",
   "metadata": {},
   "source": [
    "### 15. Write a Python program to find the length of a tuple.\r\n"
   ]
  },
  {
   "cell_type": "code",
   "execution_count": 16,
   "id": "09a5bd7a-8b97-490b-b71d-e17dedb12448",
   "metadata": {},
   "outputs": [
    {
     "data": {
      "text/plain": [
       "5"
      ]
     },
     "execution_count": 16,
     "metadata": {},
     "output_type": "execute_result"
    }
   ],
   "source": [
    "S1 = ('Blue', 'Green', 'Red', 'Yellow', 'Orange')\n",
    "len(S1)"
   ]
  },
  {
   "cell_type": "markdown",
   "id": "fc80136e-ccc1-4a2f-95c7-99b4d8bc5fc6",
   "metadata": {},
   "source": [
    "### 16. Write a Python program to convert a tuple to a dictionary.\r\n"
   ]
  },
  {
   "cell_type": "code",
   "execution_count": 17,
   "id": "e50039fd-ab54-4e34-b1be-bcd066c98723",
   "metadata": {},
   "outputs": [
    {
     "name": "stdout",
     "output_type": "stream",
     "text": [
      "Blue 1\n",
      "Green 2\n",
      "Red 3\n",
      "Yellow 4\n",
      "Orange 5\n"
     ]
    }
   ],
   "source": [
    "S1 = ('Blue', 'Green', 'Red', 'Yellow', 'Orange')\n",
    "S2 = [1,2,3,4,5]\n",
    "for e1,e2 in zip(S1,S2):\n",
    "    print(e1,e2)\n",
    "#Not Possible"
   ]
  },
  {
   "cell_type": "markdown",
   "id": "43f244bc-7c97-456f-ad1b-008aa528fd47",
   "metadata": {},
   "source": [
    "### 17. Write a Python program to unzip a list of tuples into individual lists.\r\n"
   ]
  },
  {
   "cell_type": "code",
   "execution_count": 18,
   "id": "ef96bfb4-6312-44cd-bb76-aa9d6f6c1df2",
   "metadata": {},
   "outputs": [
    {
     "name": "stdout",
     "output_type": "stream",
     "text": [
      "[1, 2]\n",
      "[3, 4]\n",
      "[5, 6]\n"
     ]
    }
   ],
   "source": [
    "list_of_tuple = [(1,2),(3,4),(5,6)]\n",
    "for tup in list_of_tuple:\n",
    "    print(list(tup))"
   ]
  },
  {
   "cell_type": "markdown",
   "id": "4edd6a74-2bb5-4f00-89f7-b20b9a21ec46",
   "metadata": {},
   "source": [
    "### 18. Write a Python program to reverse a tuple.\r\n"
   ]
  },
  {
   "cell_type": "code",
   "execution_count": 19,
   "id": "737181a5-32fa-41d3-a763-c00879e89054",
   "metadata": {},
   "outputs": [
    {
     "name": "stdout",
     "output_type": "stream",
     "text": [
      "(4, 3, 2, 1) (4, 3, 2, 1)\n"
     ]
    }
   ],
   "source": [
    "t1 = (1,2,3,4)\n",
    "print(t1[::-1], tuple(reversed(t1)))"
   ]
  },
  {
   "cell_type": "markdown",
   "id": "87a19b1c-7a5f-4d34-81a7-7958f2926503",
   "metadata": {},
   "source": [
    "### 19. Write a Python program to convert a list of tuples into a dictionary.\r\n"
   ]
  },
  {
   "cell_type": "code",
   "execution_count": 20,
   "id": "a0a7e2d1-bc2b-4c2b-838e-ef1509c9eb76",
   "metadata": {},
   "outputs": [
    {
     "data": {
      "text/plain": [
       "{1: 'a', 2: 'f', 3: 's'}"
      ]
     },
     "execution_count": 20,
     "metadata": {},
     "output_type": "execute_result"
    }
   ],
   "source": [
    "t1  = [(1,'a'),(2,'f'),(3,'s')]\n",
    "dict(t1)"
   ]
  },
  {
   "cell_type": "markdown",
   "id": "a866ef5b-aa30-407f-bf32-cb3859294504",
   "metadata": {},
   "source": [
    "### 20. Write a Python program to print a tuple with string formatting.\r\n"
   ]
  },
  {
   "cell_type": "code",
   "execution_count": 21,
   "id": "11f545fc-fc71-4b19-822f-705b4c3c8028",
   "metadata": {},
   "outputs": [
    {
     "data": {
      "text/plain": [
       "'(100, 200, 300)'"
      ]
     },
     "execution_count": 21,
     "metadata": {},
     "output_type": "execute_result"
    }
   ],
   "source": [
    "Sample = (100, 200, 300)\n",
    "\n",
    "str(Sample)"
   ]
  },
  {
   "cell_type": "markdown",
   "id": "d1bdbd09-a83a-4ceb-8d03-f64e4f8222c1",
   "metadata": {},
   "source": [
    "### 21. Write a Python program to replace the last value of tuples in a list.\r\n"
   ]
  },
  {
   "cell_type": "code",
   "execution_count": 22,
   "id": "35bbbda8-d77c-45ae-849e-59087fa790ad",
   "metadata": {},
   "outputs": [
    {
     "data": {
      "text/plain": [
       "(100, 200, 4)"
      ]
     },
     "execution_count": 22,
     "metadata": {},
     "output_type": "execute_result"
    }
   ],
   "source": [
    "Sample = (100, 200, 300)\n",
    "tuple((*Sample[:2],4))"
   ]
  },
  {
   "cell_type": "markdown",
   "id": "8329f3e9-0668-4ac4-9651-b45e9cef3f4d",
   "metadata": {},
   "source": [
    "### 22. Write a Python program to remove an empty tuple(s) from a list of tuples.\n"
   ]
  },
  {
   "cell_type": "code",
   "execution_count": 23,
   "id": "0e64a968-0423-4f8d-acb8-11345d066086",
   "metadata": {},
   "outputs": [
    {
     "name": "stdout",
     "output_type": "stream",
     "text": [
      "[('',), ('a', 'b'), ('a', 'b', 'c'), 'd']\n"
     ]
    }
   ],
   "source": [
    "l1 =  [(), (), ('',), ('a', 'b'), ('a', 'b', 'c'), ('d')]\n",
    "# for tup in l1:\n",
    "#     if(len(tup) == 0):\n",
    "#         l1.remove(tup)\n",
    "# print(l1)\n",
    "l1 = [t for t in l1 if len(t) != 0]\n",
    "print(l1)"
   ]
  },
  {
   "cell_type": "markdown",
   "id": "5eef6547-96d4-49f4-a699-9114613cb2ec",
   "metadata": {},
   "source": [
    "### 23. Write a Python program to sort a tuple by its float element.\r\n"
   ]
  },
  {
   "cell_type": "code",
   "execution_count": 24,
   "id": "b2333f13-846d-4bbd-9f17-aebedf1712c0",
   "metadata": {},
   "outputs": [
    {
     "name": "stdout",
     "output_type": "stream",
     "text": [
      "[24.5, 15.1, 12.2]\n",
      "[('item3', 24.5), ('item2', 15.1), ('item1', 12.2)]\n"
     ]
    }
   ],
   "source": [
    "l = [('item1', 12.20), ('item2', 15.10), ('item3', 24.5)]\n",
    "l1 = [t[1] for t in l]\n",
    "l1.sort(reverse=True)\n",
    "print(l1)\n",
    "l2 = [()]*len(l1)\n",
    "for tup in l:\n",
    "    idx = l1.index(tup[1])\n",
    "    l2[idx] = tup\n",
    "print(l2)"
   ]
  },
  {
   "cell_type": "markdown",
   "id": "d6753c67-d03b-47ea-bc24-7b422a9c9664",
   "metadata": {},
   "source": [
    "### 24. Write a Python program to count the elements in a list until an element is a tuple.\r\n"
   ]
  },
  {
   "cell_type": "code",
   "execution_count": 25,
   "id": "df58f6f2-247b-4ec9-9ada-913c69ef9545",
   "metadata": {},
   "outputs": [
    {
     "name": "stdout",
     "output_type": "stream",
     "text": [
      "5\n"
     ]
    }
   ],
   "source": [
    "l1 = [1,3,4,'cuh','sia',(3,2,3),6,8]\n",
    "count = 0\n",
    "for i in l1:\n",
    "    if(type(i) == tuple):\n",
    "        break\n",
    "    count+=1\n",
    "print(count)"
   ]
  },
  {
   "cell_type": "markdown",
   "id": "d801ada5-593c-4e9b-a15a-aa121f28fc6d",
   "metadata": {},
   "source": [
    "### 25. Write a Python program to convert a given string list to a tuple.\r\n"
   ]
  },
  {
   "cell_type": "code",
   "execution_count": 26,
   "id": "59ffa9c4-9ffa-4ccb-a08a-979d1e9bd70c",
   "metadata": {},
   "outputs": [
    {
     "data": {
      "text/plain": [
       "\"Original string: python 3.0\\n<class 'str'>\\nConvert the said string to a tuple:\\n('p', 'y', 't', 'h', 'o', 'n', '3', '.', '0')\\n<class 'tuple'>\""
      ]
     },
     "execution_count": 26,
     "metadata": {},
     "output_type": "execute_result"
    }
   ],
   "source": [
    "\"\"\"Original string: python 3.0\n",
    "<class 'str'>\n",
    "Convert the said string to a tuple:\n",
    "('p', 'y', 't', 'h', 'o', 'n', '3', '.', '0')\n",
    "<class 'tuple'>\"\"\""
   ]
  },
  {
   "cell_type": "code",
   "execution_count": 27,
   "id": "fab30403-3255-4691-b5ef-acc274175a1e",
   "metadata": {},
   "outputs": [
    {
     "data": {
      "text/plain": [
       "('p', 'y', 't', 'h', 'o', 'n', ' ', '3', '.', '0')"
      ]
     },
     "execution_count": 27,
     "metadata": {},
     "output_type": "execute_result"
    }
   ],
   "source": [
    "s = \"python 3.0\"\n",
    "tuple(s)"
   ]
  },
  {
   "cell_type": "markdown",
   "id": "870b3894-ee55-4754-b079-548b0b989a78",
   "metadata": {},
   "source": [
    "### 26. Write a Python program to calculate the product, multiplying all the numbers in a given tuple.\n"
   ]
  },
  {
   "cell_type": "code",
   "execution_count": 28,
   "id": "9361cad8-2fd9-4843-acdf-91dfd1ee684f",
   "metadata": {},
   "outputs": [
    {
     "name": "stdout",
     "output_type": "stream",
     "text": [
      "27648\n"
     ]
    }
   ],
   "source": [
    "tup = (4, 3, 2, 2, -1, 18)\n",
    "tup2 = (2, 4, 8, 8, 3, 2, 9)\n",
    "\n",
    "prod = 1\n",
    "for i in tup2:\n",
    "    prod = prod * i\n",
    "print(prod)"
   ]
  },
  {
   "cell_type": "code",
   "execution_count": 29,
   "id": "caab8e0e-47da-4a4d-bd6e-883d898792a4",
   "metadata": {},
   "outputs": [
    {
     "name": "stdout",
     "output_type": "stream",
     "text": [
      "[4, 2, 2, 18]\n"
     ]
    }
   ],
   "source": [
    "tup = (4, 3, 2, 2, -1, 18)\n",
    "l1 = [e for e in tup if e%2 == 0 ]\n",
    "print(l1)"
   ]
  },
  {
   "cell_type": "markdown",
   "id": "7c67e57d-85ae-4eca-b6d3-a9c2a0416df6",
   "metadata": {},
   "source": [
    "### 27. Write a Python program to calculate the average value of the numbers in a given tuple of tuples.\r\n"
   ]
  },
  {
   "cell_type": "code",
   "execution_count": 30,
   "id": "fc151c8d-1449-4810-acfe-eaf20ed9e0cc",
   "metadata": {},
   "outputs": [
    {
     "name": "stdout",
     "output_type": "stream",
     "text": [
      "10.5\n",
      "44.0\n",
      "58.0\n",
      "2.5\n"
     ]
    }
   ],
   "source": [
    "tup = ((10, 10, 10, 12), (30, 45, 56, 45), (81, 80, 39, 32), (1, 2, 3, 4))\n",
    "for i in tup:\n",
    "    add = 0\n",
    "    for j in i:\n",
    "        add = add+j\n",
    "       # print(add)\n",
    "    print(add/len(i))"
   ]
  },
  {
   "cell_type": "markdown",
   "id": "552d3c62-415f-4f87-87d0-afde2d990956",
   "metadata": {},
   "source": [
    "### 28. Write a Python program to convert a tuple of string values to a tuple of integer values.\n"
   ]
  },
  {
   "cell_type": "code",
   "execution_count": 31,
   "id": "d00264f9-6742-479a-88de-994aaa491b1b",
   "metadata": {},
   "outputs": [],
   "source": [
    "# tup = (('333', '33'), ('1416', '55'))\n",
    "# l1 = []\n",
    "# l2 = []\n",
    "# #l1 = list(tup)\n",
    "# for i in tup:\n",
    "#     print(i)\n",
    "\n",
    "#     i = list(i)\n",
    "#     l1.append(i)\n",
    "#     # for ele in l1:\n",
    "#     #     ele = int(ele)\n",
    "# for i in l1:\n",
    "#     for j in i:\n",
    "#         #print(type(j))\n",
    "#         j = int(j)\n",
    "#         #print(type(j))\n",
    "#         i.append(j)\n",
    "        \n",
    "# print(l1)\n",
    "# print(l2)"
   ]
  },
  {
   "cell_type": "code",
   "execution_count": null,
   "id": "9ca7fffc-0e42-4cbe-b200-733f220804c1",
   "metadata": {},
   "outputs": [],
   "source": []
  },
  {
   "cell_type": "code",
   "execution_count": 41,
   "id": "e2a735e8-7961-4e02-b522-d11a516b382e",
   "metadata": {},
   "outputs": [
    {
     "name": "stdout",
     "output_type": "stream",
     "text": [
      "((333, 33), (1416, 55))\n"
     ]
    }
   ],
   "source": [
    "tup = (('333', '33'), ('1416', '55'))\n",
    "tupl = [[int(i) for i in j]for j in tup]\n",
    "#print(tupl)\n",
    "d =[]\n",
    "for i in tupl:\n",
    "    d.append(tuple(i))\n",
    "d= tuple(d)\n",
    "print(d)"
   ]
  },
  {
   "cell_type": "code",
   "execution_count": 34,
   "id": "9fb3214e-2d71-446b-a43a-381a86944f7a",
   "metadata": {},
   "outputs": [
    {
     "name": "stdout",
     "output_type": "stream",
     "text": [
      "(1, 2, 3, 4, 5)\n"
     ]
    }
   ],
   "source": [
    "l1 = [1,2,3,4,5]\n",
    "l1 = tuple(l1)\n",
    "print(l1)"
   ]
  },
  {
   "cell_type": "markdown",
   "id": "56c27b3f-30d5-439d-9833-75e1a0500832",
   "metadata": {},
   "source": [
    "### 29. Write a Python program to convert a given tuple of positive integers into an integer."
   ]
  },
  {
   "cell_type": "raw",
   "id": "bd3dce4c-e109-44df-9e23-4a2f9dd4c1c5",
   "metadata": {},
   "source": [
    "(1, 2, 3)\n",
    "Convert the said tuple of positive integers into an integer:\n",
    "123\n",
    "Original tuple:\n",
    "(10, 20, 40, 5, 70)\n",
    "Convert the said tuple of positive integers into an integer:\n",
    "102040570"
   ]
  },
  {
   "cell_type": "code",
   "execution_count": 35,
   "id": "de44a7e4-85a8-4b1d-ba59-91f04e156e4d",
   "metadata": {},
   "outputs": [
    {
     "name": "stdout",
     "output_type": "stream",
     "text": [
      "123\n"
     ]
    }
   ],
   "source": [
    "t = (1,2,3)\n",
    "string = \"\"\n",
    "for i in t:\n",
    "    i = str(i)\n",
    "    string = string + i\n",
    "string = int(string)\n",
    "print(string)"
   ]
  },
  {
   "cell_type": "markdown",
   "id": "e0ed37ba-3647-44f1-986f-e8a03ac3a3ab",
   "metadata": {},
   "source": [
    "### 30. Write a Python program to check if a specified element appears in a tuple of tuples."
   ]
  },
  {
   "cell_type": "raw",
   "id": "b0493387-0021-4a4c-ae05-30149ad04130",
   "metadata": {},
   "source": [
    "(('Red', 'White', 'Blue'), ('Green', 'Pink', 'Purple'), ('Orange', 'Yellow', 'Lime'))\n",
    "Check if White presenet in said tuple of tuples!\n",
    "True\n",
    "Check if White presenet in said tuple of tuples!\n",
    "True\n",
    "Check if Olive presenet in said tuple of tuples!\n",
    "False"
   ]
  },
  {
   "cell_type": "code",
   "execution_count": 36,
   "id": "b93394e9-15a3-4126-a2a8-4a0e68c3ade6",
   "metadata": {},
   "outputs": [
    {
     "name": "stdin",
     "output_type": "stream",
     "text": [
      "Enter name :  Yellow\n"
     ]
    },
    {
     "name": "stdout",
     "output_type": "stream",
     "text": [
      "True\n"
     ]
    }
   ],
   "source": [
    "t = (('Red', 'White', 'Blue'), ('Green', 'Pink', 'Purple'), ('Orange', 'Yellow', 'Lime'))\n",
    "check = input(\"Enter name : \")\n",
    "found = False\n",
    "for i in t:\n",
    "    for j in i:\n",
    "        if j == check:\n",
    "            found = True\n",
    "            print(found)\n",
    "if(found == False):\n",
    "    print(found)\n",
    "            \n",
    "            \n",
    "        "
   ]
  },
  {
   "cell_type": "markdown",
   "id": "13e09daa-c9a7-4c3c-951a-ffc335f789e0",
   "metadata": {},
   "source": [
    "### 31. Write a Python program to compute the element-wise sum of given tuples.\r\n"
   ]
  },
  {
   "cell_type": "raw",
   "id": "21e0e4f0-8a48-4627-a440-32d240226892",
   "metadata": {},
   "source": [
    "Original lists:\n",
    "(1, 2, 3, 4)\n",
    "(3, 5, 2, 1)\n",
    "(2, 2, 3, 1)\n",
    "Element-wise sum of the said tuples:\n",
    "(6, 9, 8, 6)"
   ]
  },
  {
   "cell_type": "code",
   "execution_count": 37,
   "id": "b0204315-40d2-487a-8df6-c37f57da5ef4",
   "metadata": {},
   "outputs": [
    {
     "name": "stdout",
     "output_type": "stream",
     "text": [
      "(6, 9, 8, 6)\n"
     ]
    }
   ],
   "source": [
    "t1 = (1, 2, 3, 4)\n",
    "t2 = (3, 5, 2, 1)\n",
    "t3 = (2, 2, 3, 1)\n",
    "l1 = []\n",
    "for i,e,f in zip(t1,t2,t3):\n",
    "    sum = i+e+f\n",
    "    l1.append(sum)\n",
    "tup = tuple(l1)\n",
    "print(tup)"
   ]
  },
  {
   "cell_type": "markdown",
   "id": "7e1aea4e-777f-4112-8f69-60c07e1d306e",
   "metadata": {},
   "source": [
    "### 32. Write a Python program to compute the sum of all the elements of each tuple stored inside a list of tuples."
   ]
  },
  {
   "cell_type": "raw",
   "id": "a64d9c84-60a9-4405-856d-364eb38cc630",
   "metadata": {},
   "source": [
    "Original list of tuples:\n",
    "[(1, 2), (2, 3), (3, 4)]\n",
    "Sum of all the elements of each tuple stored inside the said list of tuples:\n",
    "[3, 5, 7]\n",
    "Original list of tuples:\n",
    "[(1, 2, 6), (2, 3, -6), (3, 4), (2, 2, 2, 2)]\n",
    "Sum of all the elements of each tuple stored inside the said list of tuples:\n",
    "[9, -1, 7, 8]"
   ]
  },
  {
   "cell_type": "code",
   "execution_count": 38,
   "id": "33dda6a9-d4ae-4725-84df-1707aa1c582d",
   "metadata": {},
   "outputs": [
    {
     "name": "stdout",
     "output_type": "stream",
     "text": [
      "[3, 5, 7]\n"
     ]
    }
   ],
   "source": [
    "t = [(1, 2), (2, 3), (3, 4)]\n",
    "l1 = []\n",
    "for i in t:\n",
    "    sum = 0\n",
    "    for j in i:\n",
    "        sum = sum +j\n",
    "    l1.append(sum)\n",
    "print(l1)\n",
    "\n",
    "\n"
   ]
  },
  {
   "cell_type": "markdown",
   "id": "7d461f0a-c2fc-47ba-8c58-57edddf85bee",
   "metadata": {},
   "source": [
    "### 33. Write a Python program to convert a given list of tuples to a list of lists.\r\n"
   ]
  },
  {
   "cell_type": "raw",
   "id": "314ed8c2-0735-479c-b66c-7e35f19da7a7",
   "metadata": {},
   "source": [
    "Original list of tuples: [(1, 2), (2, 3), (3, 4)]\n",
    "Convert the said list of tuples to a list of lists: [[1, 2], [2, 3], [3, 4]]\n",
    "Original list of tuples: [(1, 2), (2, 3, 5), (3, 4), (2, 3, 4, 2)]\n",
    "Convert the said list of tuples to a list of lists: [[1, 2], [2, 3, 5], [3, 4], [2, 3, 4, 2]]"
   ]
  },
  {
   "cell_type": "code",
   "execution_count": 39,
   "id": "eb063075-4597-492a-b569-6379833538bd",
   "metadata": {},
   "outputs": [
    {
     "name": "stdout",
     "output_type": "stream",
     "text": [
      "[[1, 2], [2, 3], [3, 4]]\n"
     ]
    }
   ],
   "source": [
    "t = [(1, 2), (2, 3), (3, 4)]\n",
    "t = [list(i) for i in t]\n",
    "print(t)"
   ]
  },
  {
   "cell_type": "code",
   "execution_count": null,
   "id": "76183088-bd8a-474d-8283-8506cab9c882",
   "metadata": {},
   "outputs": [],
   "source": []
  },
  {
   "cell_type": "code",
   "execution_count": null,
   "id": "2893b6a2-f59e-4714-bead-643b70866b5a",
   "metadata": {},
   "outputs": [],
   "source": []
  },
  {
   "cell_type": "code",
   "execution_count": null,
   "id": "557a203d-34fb-4ea5-8011-33d95e8eb6ff",
   "metadata": {},
   "outputs": [],
   "source": []
  },
  {
   "cell_type": "code",
   "execution_count": null,
   "id": "4d279df3-1ecb-406e-95f2-e44333573766",
   "metadata": {},
   "outputs": [],
   "source": []
  },
  {
   "cell_type": "markdown",
   "id": "4b6cc0b2-7bc5-4fb1-9543-cf77068dd752",
   "metadata": {},
   "source": [
    "### "
   ]
  }
 ],
 "metadata": {
  "kernelspec": {
   "display_name": "Python 3 (ipykernel)",
   "language": "python",
   "name": "python3"
  },
  "language_info": {
   "codemirror_mode": {
    "name": "ipython",
    "version": 3
   },
   "file_extension": ".py",
   "mimetype": "text/x-python",
   "name": "python",
   "nbconvert_exporter": "python",
   "pygments_lexer": "ipython3",
   "version": "3.12.1"
  }
 },
 "nbformat": 4,
 "nbformat_minor": 5
}
